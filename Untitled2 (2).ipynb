{
 "cells": [
  {
   "cell_type": "code",
   "execution_count": 2,
   "metadata": {
    "id": "g5Nk-MI4-nLz"
   },
   "outputs": [],
   "source": [
    "import numpy as np\n",
    "import pandas as pd\n",
    "from scipy.linalg import kron\n",
    "from scipy.sparse.linalg import svds"
   ]
  },
  {
   "cell_type": "code",
   "execution_count": null,
   "metadata": {
    "id": "UgEHqzGfmTDm"
   },
   "outputs": [],
   "source": []
  },
  {
   "cell_type": "code",
   "execution_count": 31,
   "metadata": {
    "id": "sQnQKW5Z-oh_"
   },
   "outputs": [],
   "source": [
    "m, n = 2, 3\n",
    "# V = np.random.random((m, n))\n",
    "V = np.arange(m*n).reshape(m, n, order='F')\n",
    "v = V.ravel(order='F')"
   ]
  },
  {
   "cell_type": "code",
   "execution_count": 75,
   "metadata": {
    "colab": {
     "base_uri": "https://localhost:8080/"
    },
    "id": "DKq5w-LfCNYj",
    "outputId": "8253e618-a31f-4349-d428-e6b801dd0763"
   },
   "outputs": [
    {
     "data": {
      "text/plain": [
       "array([[0, 2, 4],\n",
       "       [1, 3, 5]])"
      ]
     },
     "execution_count": 75,
     "metadata": {},
     "output_type": "execute_result"
    }
   ],
   "source": [
    "V"
   ]
  },
  {
   "cell_type": "code",
   "execution_count": 76,
   "metadata": {
    "colab": {
     "base_uri": "https://localhost:8080/"
    },
    "id": "aXj8ipjjCtas",
    "outputId": "7436c768-ca1d-4810-9a11-2661830862bd"
   },
   "outputs": [
    {
     "data": {
      "text/plain": [
       "array([0, 1, 2, 3, 4, 5])"
      ]
     },
     "execution_count": 76,
     "metadata": {},
     "output_type": "execute_result"
    }
   ],
   "source": [
    "v"
   ]
  },
  {
   "cell_type": "code",
   "execution_count": 8,
   "metadata": {
    "id": "3-apcKle-sNI"
   },
   "outputs": [],
   "source": [
    "A = np.outer(v, v)"
   ]
  },
  {
   "cell_type": "code",
   "execution_count": 9,
   "metadata": {
    "colab": {
     "base_uri": "https://localhost:8080/"
    },
    "id": "wmVxETnZ-yXY",
    "outputId": "5bda6438-d53a-4701-f1b5-2f9fa3983bb9"
   },
   "outputs": [
    {
     "data": {
      "text/plain": [
       "array([[ 0,  0,  0,  0,  0,  0],\n",
       "       [ 0,  1,  2,  3,  4,  5],\n",
       "       [ 0,  2,  4,  6,  8, 10],\n",
       "       [ 0,  3,  6,  9, 12, 15],\n",
       "       [ 0,  4,  8, 12, 16, 20],\n",
       "       [ 0,  5, 10, 15, 20, 25]])"
      ]
     },
     "execution_count": 9,
     "metadata": {},
     "output_type": "execute_result"
    }
   ],
   "source": [
    "A"
   ]
  },
  {
   "cell_type": "code",
   "execution_count": 10,
   "metadata": {
    "colab": {
     "base_uri": "https://localhost:8080/"
    },
    "id": "1Ynw6Y1sfzLf",
    "outputId": "ab43f0d8-42fa-49c5-ff6a-0e1f7518c823"
   },
   "outputs": [
    {
     "data": {
      "text/plain": [
       "array([[ 0,  0,  0,  0,  1,  2,  0,  2,  4],\n",
       "       [ 0,  0,  0,  3,  4,  5,  6,  8, 10],\n",
       "       [ 0,  3,  6,  0,  4,  8,  0,  5, 10],\n",
       "       [ 9, 12, 15, 12, 16, 20, 15, 20, 25]])"
      ]
     },
     "execution_count": 10,
     "metadata": {},
     "output_type": "execute_result"
    }
   ],
   "source": [
    "RA = A.reshape(m, n, m, n, order='C').transpose(0, 2, 1, 3).reshape(m*m, n*n, order='F')\n",
    "RA"
   ]
  },
  {
   "cell_type": "code",
   "execution_count": null,
   "metadata": {
    "id": "oic2spECFgvV"
   },
   "outputs": [],
   "source": []
  },
  {
   "cell_type": "code",
   "execution_count": 11,
   "metadata": {
    "id": "O0YFSW9tOBbj"
   },
   "outputs": [],
   "source": [
    "u, s, vt = np.linalg.svd(RA, full_matrices=False)"
   ]
  },
  {
   "cell_type": "code",
   "execution_count": 12,
   "metadata": {
    "colab": {
     "base_uri": "https://localhost:8080/",
     "height": 448
    },
    "id": "JdHp-xuSoG9C",
    "outputId": "0f60a9a4-aee1-4425-aadd-edc2ae4b76a8"
   },
   "outputs": [
    {
     "data": {
      "text/plain": [
       "<Axes: >"
      ]
     },
     "execution_count": 12,
     "metadata": {},
     "output_type": "execute_result"
    },
    {
     "data": {
      "image/png": "[encoded data removed]",
      "text/plain": [
       "<Figure size 640x480 with 1 Axes>"
      ]
     },
     "metadata": {},
     "output_type": "display_data"
    }
   ],
   "source": [
    "pd.Series(s).plot()"
   ]
  },
  {
   "cell_type": "code",
   "execution_count": 13,
   "metadata": {
    "id": "dtbVWbOvODxU"
   },
   "outputs": [],
   "source": [
    "B = s[0] * u[:, 0].reshape(m, m)\n",
    "C = vt[0, :].reshape(n, n)"
   ]
  },
  {
   "cell_type": "code",
   "execution_count": 14,
   "metadata": {
    "colab": {
     "base_uri": "https://localhost:8080/"
    },
    "id": "eqI_YGG7OXuf",
    "outputId": "6fa47b9c-6eb7-4819-9f06-8018f3c4ac92"
   },
   "outputs": [
    {
     "data": {
      "text/plain": [
       "0.18982375470746457"
      ]
     },
     "execution_count": 14,
     "metadata": {},
     "output_type": "execute_result"
    }
   ],
   "source": [
    "np.linalg.norm(A-kron(B, C)) / np.linalg.norm(A)"
   ]
  },
  {
   "cell_type": "code",
   "execution_count": 15,
   "metadata": {
    "id": "5QV6R1CVlRn3"
   },
   "outputs": [],
   "source": [
    "# test"
   ]
  },
  {
   "cell_type": "code",
   "execution_count": 79,
   "metadata": {
    "id": "8faJFAG6O-5O"
   },
   "outputs": [],
   "source": [
    "m, n = 5, 10\n",
    "\n",
    "B = np.random.rand(m, m)\n",
    "B = B + B.T\n",
    "C = np.random.rand(n, n)\n",
    "C = C + C.T\n",
    "\n",
    "A = kron(B, C)\n",
    "RA = A.reshape(m, n, m, n, order='C').transpose(0, 2, 1, 3).reshape(m*m, n*n, order='F')"
   ]
  },
  {
   "cell_type": "code",
   "execution_count": 80,
   "metadata": {},
   "outputs": [
    {
     "data": {
      "text/plain": [
       "array([[1.77558411, 1.4186557 , 1.5362896 , 0.96867242, 1.31508317],\n",
       "       [1.4186557 , 0.82395402, 0.79236464, 1.78594449, 0.95426723],\n",
       "       [1.5362896 , 0.79236464, 1.35534029, 1.38776583, 1.12479267],\n",
       "       [0.96867242, 1.78594449, 1.38776583, 1.09723549, 0.92954476],\n",
       "       [1.31508317, 0.95426723, 1.12479267, 0.92954476, 0.30335801]])"
      ]
     },
     "execution_count": 80,
     "metadata": {},
     "output_type": "execute_result"
    }
   ],
   "source": [
    "B"
   ]
  },
  {
   "cell_type": "code",
   "execution_count": 81,
   "metadata": {},
   "outputs": [
    {
     "data": {
      "text/plain": [
       "array([1.77558411, 1.4186557 , 1.5362896 , 0.96867242, 1.31508317,\n",
       "       1.4186557 , 0.82395402, 0.79236464, 1.78594449, 0.95426723,\n",
       "       1.5362896 , 0.79236464, 1.35534029, 1.38776583, 1.12479267,\n",
       "       0.96867242, 1.78594449, 1.38776583, 1.09723549, 0.92954476,\n",
       "       1.31508317, 0.95426723, 1.12479267, 0.92954476, 0.30335801])"
      ]
     },
     "execution_count": 81,
     "metadata": {},
     "output_type": "execute_result"
    }
   ],
   "source": [
    "B.ravel('F')"
   ]
  },
  {
   "cell_type": "code",
   "execution_count": 82,
   "metadata": {},
   "outputs": [
    {
     "data": {
      "text/plain": [
       "array([1.77558411, 1.4186557 , 1.5362896 , 0.96867242, 1.31508317,\n",
       "       1.4186557 , 0.82395402, 0.79236464, 1.78594449, 0.95426723,\n",
       "       1.5362896 , 0.79236464, 1.35534029, 1.38776583, 1.12479267,\n",
       "       0.96867242, 1.78594449, 1.38776583, 1.09723549, 0.92954476,\n",
       "       1.31508317, 0.95426723, 1.12479267, 0.92954476, 0.30335801])"
      ]
     },
     "execution_count": 82,
     "metadata": {},
     "output_type": "execute_result"
    }
   ],
   "source": [
    "B.ravel('C')"
   ]
  },
  {
   "cell_type": "code",
   "execution_count": 83,
   "metadata": {
    "colab": {
     "base_uri": "https://localhost:8080/"
    },
    "id": "rmj3Bdiy9aYe",
    "outputId": "600cab28-e760-4554-9059-4bdf22aac675"
   },
   "outputs": [
    {
     "data": {
      "text/plain": [
       "(50, 50)"
      ]
     },
     "execution_count": 83,
     "metadata": {},
     "output_type": "execute_result"
    }
   ],
   "source": [
    "A.shape"
   ]
  },
  {
   "cell_type": "code",
   "execution_count": 84,
   "metadata": {
    "id": "sEJPt8VPhwAX"
   },
   "outputs": [],
   "source": [
    "RA = A.reshape(m, n, m, n, order='C').transpose(0, 2, 1, 3).reshape(m*m, n*n, order='F')"
   ]
  },
  {
   "cell_type": "code",
   "execution_count": 85,
   "metadata": {},
   "outputs": [
    {
     "data": {
      "text/plain": [
       "(25, 100)"
      ]
     },
     "execution_count": 85,
     "metadata": {},
     "output_type": "execute_result"
    }
   ],
   "source": [
    "RA.shape"
   ]
  },
  {
   "cell_type": "code",
   "execution_count": 86,
   "metadata": {
    "id": "YZkgnDr8hx3z"
   },
   "outputs": [],
   "source": [
    "u, s, vt = np.linalg.svd(RA, full_matrices=False)\n",
    "\n",
    "# u, s, vt = svds(RA, k=5)\n",
    "# sidx = np.argsort(-s)\n",
    "# s = s[sidx]\n",
    "# u = u[:, sidx]\n",
    "# vt = vt[sidx, :]"
   ]
  },
  {
   "cell_type": "code",
   "execution_count": 87,
   "metadata": {},
   "outputs": [
    {
     "data": {
      "text/plain": [
       "(25, 25)"
      ]
     },
     "execution_count": 87,
     "metadata": {},
     "output_type": "execute_result"
    }
   ],
   "source": [
    "u.shape"
   ]
  },
  {
   "cell_type": "code",
   "execution_count": 88,
   "metadata": {},
   "outputs": [
    {
     "data": {
      "text/plain": [
       "(25, 100)"
      ]
     },
     "execution_count": 88,
     "metadata": {},
     "output_type": "execute_result"
    }
   ],
   "source": [
    "vt.shape"
   ]
  },
  {
   "cell_type": "code",
   "execution_count": 85,
   "metadata": {
    "id": "okdU9soOnShx"
   },
   "outputs": [],
   "source": [
    "np.testing.assert_array_equal(RA, np.outer(B.ravel('F'), C.ravel('F')))"
   ]
  },
  {
   "cell_type": "code",
   "execution_count": 89,
   "metadata": {
    "id": "azqWZgS5hzsX"
   },
   "outputs": [],
   "source": [
    "B1 = s[0] * u[:, 0].reshape(m, m)\n",
    "C1 = vt[0, :].reshape(n, n)"
   ]
  },
  {
   "cell_type": "code",
   "execution_count": 29,
   "metadata": {
    "id": "OoOvsTttkLfA"
   },
   "outputs": [],
   "source": [
    "#np.testing.assert_array_almost_equal(A, kron(B1, C1), decimal=14)"
   ]
  },
  {
   "cell_type": "code",
   "execution_count": 90,
   "metadata": {},
   "outputs": [
    {
     "data": {
      "text/plain": [
       "6.334132329989265e-16"
      ]
     },
     "execution_count": 90,
     "metadata": {},
     "output_type": "execute_result"
    }
   ],
   "source": [
    "np.linalg.norm(A-kron(B1, C1)) / np.linalg.norm(A)"
   ]
  },
  {
   "cell_type": "code",
   "execution_count": 93,
   "metadata": {},
   "outputs": [
    {
     "ename": "LinAlgError",
     "evalue": "Matrix is not positive definite",
     "output_type": "error",
     "traceback": [
      "\u001b[0;31m---------------------------------------------------------------------------\u001b[0m",
      "\u001b[0;31mLinAlgError\u001b[0m                               Traceback (most recent call last)",
      "Cell \u001b[0;32mIn[93], line 1\u001b[0m\n\u001b[0;32m----> 1\u001b[0m \u001b[43mnp\u001b[49m\u001b[38;5;241;43m.\u001b[39;49m\u001b[43mlinalg\u001b[49m\u001b[38;5;241;43m.\u001b[39;49m\u001b[43mcholesky\u001b[49m\u001b[43m(\u001b[49m\u001b[43mB\u001b[49m\u001b[43m)\u001b[49m\n",
      "File \u001b[0;32m~/.mlspace/envs/video_vika/lib/python3.10/site-packages/numpy/linalg/linalg.py:779\u001b[0m, in \u001b[0;36mcholesky\u001b[0;34m(a)\u001b[0m\n\u001b[1;32m    777\u001b[0m t, result_t \u001b[38;5;241m=\u001b[39m _commonType(a)\n\u001b[1;32m    778\u001b[0m signature \u001b[38;5;241m=\u001b[39m \u001b[38;5;124m'\u001b[39m\u001b[38;5;124mD->D\u001b[39m\u001b[38;5;124m'\u001b[39m \u001b[38;5;28;01mif\u001b[39;00m isComplexType(t) \u001b[38;5;28;01melse\u001b[39;00m \u001b[38;5;124m'\u001b[39m\u001b[38;5;124md->d\u001b[39m\u001b[38;5;124m'\u001b[39m\n\u001b[0;32m--> 779\u001b[0m r \u001b[38;5;241m=\u001b[39m \u001b[43mgufunc\u001b[49m\u001b[43m(\u001b[49m\u001b[43ma\u001b[49m\u001b[43m,\u001b[49m\u001b[43m \u001b[49m\u001b[43msignature\u001b[49m\u001b[38;5;241;43m=\u001b[39;49m\u001b[43msignature\u001b[49m\u001b[43m,\u001b[49m\u001b[43m \u001b[49m\u001b[43mextobj\u001b[49m\u001b[38;5;241;43m=\u001b[39;49m\u001b[43mextobj\u001b[49m\u001b[43m)\u001b[49m\n\u001b[1;32m    780\u001b[0m \u001b[38;5;28;01mreturn\u001b[39;00m wrap(r\u001b[38;5;241m.\u001b[39mastype(result_t, copy\u001b[38;5;241m=\u001b[39m\u001b[38;5;28;01mFalse\u001b[39;00m))\n",
      "File \u001b[0;32m~/.mlspace/envs/video_vika/lib/python3.10/site-packages/numpy/linalg/linalg.py:115\u001b[0m, in \u001b[0;36m_raise_linalgerror_nonposdef\u001b[0;34m(err, flag)\u001b[0m\n\u001b[1;32m    114\u001b[0m \u001b[38;5;28;01mdef\u001b[39;00m \u001b[38;5;21m_raise_linalgerror_nonposdef\u001b[39m(err, flag):\n\u001b[0;32m--> 115\u001b[0m     \u001b[38;5;28;01mraise\u001b[39;00m LinAlgError(\u001b[38;5;124m\"\u001b[39m\u001b[38;5;124mMatrix is not positive definite\u001b[39m\u001b[38;5;124m\"\u001b[39m)\n",
      "\u001b[0;31mLinAlgError\u001b[0m: Matrix is not positive definite"
     ]
    }
   ],
   "source": [
    "np.linalg.cholesky(B)"
   ]
  },
  {
   "cell_type": "markdown",
   "metadata": {},
   "source": [
    "## Torch row-wise:"
   ]
  },
  {
   "cell_type": "code",
   "execution_count": 3,
   "metadata": {},
   "outputs": [],
   "source": [
    "import torch\n",
    "\n",
    "def reshape_and_permute(A, m, n):\n",
    "    # Reshape to (m, n, m, n) in row-major order (default in PyTorch)\n",
    "    A_reshaped = A.reshape(m, n, m, n)\n",
    "    \n",
    "    # Permute the axes (0, 2, 1, 3) to interleave dimensions\n",
    "    A_permuted = A_reshaped.permute(0, 2, 1, 3)\n",
    "    \n",
    "    # Reshape to (m*m, n*n) in column-major order\n",
    "    RA = A_permuted.reshape(m * m, n * n)  # Transpose for column-major layout\n",
    "    \n",
    "    return RA"
   ]
  },
  {
   "cell_type": "code",
   "execution_count": 2,
   "metadata": {},
   "outputs": [
    {
     "ename": "NameError",
     "evalue": "name 'A' is not defined",
     "output_type": "error",
     "traceback": [
      "\u001b[0;31m---------------------------------------------------------------------------\u001b[0m",
      "\u001b[0;31mNameError\u001b[0m                                 Traceback (most recent call last)",
      "Cell \u001b[0;32mIn[2], line 7\u001b[0m\n\u001b[1;32m      2\u001b[0m \u001b[38;5;28;01mimport\u001b[39;00m \u001b[38;5;21;01mpandas\u001b[39;00m \u001b[38;5;28;01mas\u001b[39;00m \u001b[38;5;21;01mpd\u001b[39;00m\n\u001b[1;32m      3\u001b[0m \u001b[38;5;28;01mimport\u001b[39;00m \u001b[38;5;21;01mtorch\u001b[39;00m\n\u001b[0;32m----> 7\u001b[0m A_torch \u001b[38;5;241m=\u001b[39m torch\u001b[38;5;241m.\u001b[39mtensor(\u001b[43mA\u001b[49m)\n\u001b[1;32m      9\u001b[0m A1 \u001b[38;5;241m=\u001b[39m reshape_and_permute(A_torch, m, n)\n\u001b[1;32m     12\u001b[0m \u001b[38;5;28mprint\u001b[39m (\u001b[38;5;124m\"\u001b[39m\u001b[38;5;124mA1 shape\u001b[39m\u001b[38;5;124m\"\u001b[39m, A1\u001b[38;5;241m.\u001b[39mshape,flush \u001b[38;5;241m=\u001b[39m \u001b[38;5;28;01mTrue\u001b[39;00m)\n",
      "\u001b[0;31mNameError\u001b[0m: name 'A' is not defined"
     ]
    }
   ],
   "source": [
    "import numpy as np\n",
    "import pandas as pd\n",
    "import torch\n",
    "\n",
    "\n",
    "\n",
    "A_torch = torch.tensor(A)\n",
    "\n",
    "A1 = reshape_and_permute(A_torch, m, n)\n",
    "\n",
    "\n",
    "print (\"A1 shape\", A1.shape,flush = True)\n",
    "\n",
    "\n",
    "\n",
    "u, s, vt = np.linalg.svd(A1.numpy(), full_matrices=False)\n"
   ]
  },
  {
   "cell_type": "code",
   "execution_count": 92,
   "metadata": {},
   "outputs": [
    {
     "data": {
      "text/plain": [
       "(25, 100)"
      ]
     },
     "execution_count": 92,
     "metadata": {},
     "output_type": "execute_result"
    }
   ],
   "source": [
    "A1.numpy().shape"
   ]
  },
  {
   "cell_type": "code",
   "execution_count": 93,
   "metadata": {},
   "outputs": [
    {
     "data": {
      "text/plain": [
       "(25, 25)"
      ]
     },
     "execution_count": 93,
     "metadata": {},
     "output_type": "execute_result"
    }
   ],
   "source": [
    "u.shape"
   ]
  },
  {
   "cell_type": "code",
   "execution_count": 94,
   "metadata": {},
   "outputs": [
    {
     "data": {
      "text/plain": [
       "(25, 100)"
      ]
     },
     "execution_count": 94,
     "metadata": {},
     "output_type": "execute_result"
    }
   ],
   "source": [
    "vt.shape"
   ]
  },
  {
   "cell_type": "code",
   "execution_count": 95,
   "metadata": {},
   "outputs": [
    {
     "data": {
      "text/plain": [
       "2.790639180780416e-16"
      ]
     },
     "execution_count": 95,
     "metadata": {},
     "output_type": "execute_result"
    }
   ],
   "source": [
    "B1 = s[0] * u[:, 0].reshape(m, m)\n",
    "C1 = vt[0, :].reshape(n, n)\n",
    "np.linalg.norm(A-kron(B1, C1))/np.linalg.norm(A)"
   ]
  },
  {
   "cell_type": "code",
   "execution_count": 46,
   "metadata": {},
   "outputs": [
    {
     "data": {
      "text/plain": [
       "tensor([[0.2478, 0.6228, 1.6599,  ..., 1.5989, 2.0315, 3.0620],\n",
       "        [0.1904, 0.4785, 1.2753,  ..., 1.2285, 1.5608, 2.3526],\n",
       "        [0.1581, 0.3974, 1.0593,  ..., 1.0204, 1.2964, 1.9541],\n",
       "        ...,\n",
       "        [0.1127, 0.2832, 0.7549,  ..., 0.7272, 0.9239, 1.3926],\n",
       "        [0.1421, 0.3572, 0.9519,  ..., 0.9170, 1.1651, 1.7561],\n",
       "        [0.1858, 0.4671, 1.2449,  ..., 1.1992, 1.5236, 2.2965]],\n",
       "       dtype=torch.float64)"
      ]
     },
     "execution_count": 46,
     "metadata": {},
     "output_type": "execute_result"
    }
   ],
   "source": [
    "A1"
   ]
  },
  {
   "cell_type": "code",
   "execution_count": 47,
   "metadata": {},
   "outputs": [
    {
     "data": {
      "text/plain": [
       "array([[0.24776803, 0.62279029, 1.65990265, ..., 1.59894886, 2.03149485,\n",
       "        3.06204777],\n",
       "       [0.19036406, 0.47849955, 1.27532924, ..., 1.22849748, 1.56082935,\n",
       "        2.35261931],\n",
       "       [0.1581169 , 0.39744301, 1.05929188, ..., 1.0203933 , 1.29642904,\n",
       "        1.95409191],\n",
       "       ...,\n",
       "       [0.11268427, 0.28324343, 0.75491949, ..., 0.72719786, 0.92391867,\n",
       "        1.3926115 ],\n",
       "       [0.14209386, 0.35716744, 0.95194674, ..., 0.91699002, 1.16505321,\n",
       "        1.75607069],\n",
       "       [0.18582096, 0.46708   , 1.24489308, ..., 1.19917898, 1.52357964,\n",
       "        2.29647328]])"
      ]
     },
     "execution_count": 47,
     "metadata": {},
     "output_type": "execute_result"
    }
   ],
   "source": [
    "RA"
   ]
  },
  {
   "cell_type": "code",
   "execution_count": 120,
   "metadata": {},
   "outputs": [],
   "source": [
    "import numpy as np\n",
    "import pandas as pd\n",
    "import torch\n",
    "\n",
    "m = 50\n",
    "n = 10\n",
    "\n",
    "B = torch.rand(m, m)\n",
    "B = B + B.T\n",
    "C = torch.rand(n, n)\n",
    "C = C + C.T\n",
    "\n",
    "A = torch.kron(B, C)\n",
    "\n",
    "noise1=torch.randn(A.size())*0.01"
   ]
  },
  {
   "cell_type": "code",
   "execution_count": 121,
   "metadata": {},
   "outputs": [
    {
     "data": {
      "text/plain": [
       "torch.Size([500, 500])"
      ]
     },
     "execution_count": 121,
     "metadata": {},
     "output_type": "execute_result"
    }
   ],
   "source": [
    "A.shape"
   ]
  },
  {
   "cell_type": "code",
   "execution_count": 129,
   "metadata": {},
   "outputs": [
    {
     "name": "stdout",
     "output_type": "stream",
     "text": [
      "A1 shape torch.Size([2500, 100])\n"
     ]
    }
   ],
   "source": [
    "A1 = reshape_and_permute(A, m, n)\n",
    "\n",
    "\n",
    "print (\"A1 shape\", A1.shape,flush = True)\n",
    "\n",
    "\n",
    "\n",
    "u, s, vt = np.linalg.svd(A1.numpy(), full_matrices=False)\n"
   ]
  },
  {
   "cell_type": "code",
   "execution_count": 130,
   "metadata": {},
   "outputs": [
    {
     "data": {
      "text/plain": [
       "array([5.8582391e+02, 3.5350131e-06, 3.4441898e-06, 3.3929650e-06,\n",
       "       3.2180023e-06, 3.1591658e-06, 3.1309467e-06, 2.8994871e-06,\n",
       "       2.8680079e-06, 2.8344664e-06, 2.7741130e-06, 2.7358337e-06,\n",
       "       2.5884428e-06, 2.4967965e-06, 2.4770309e-06, 2.3870184e-06,\n",
       "       2.3090083e-06, 2.2544891e-06, 2.1097396e-06, 2.0286891e-06,\n",
       "       1.9783070e-06, 1.9277422e-06, 1.9061677e-06, 1.8507349e-06,\n",
       "       1.8391009e-06, 1.7853159e-06, 1.7704092e-06, 1.7491676e-06,\n",
       "       1.7339843e-06, 1.7218229e-06, 1.6552689e-06, 1.6194671e-06,\n",
       "       1.5903920e-06, 1.5701725e-06, 1.5484036e-06, 1.4932001e-06,\n",
       "       1.4035487e-06, 1.3516024e-06, 1.2890403e-06, 1.2646321e-06,\n",
       "       1.2433802e-06, 1.2303415e-06, 1.2031832e-06, 1.1665572e-06,\n",
       "       1.1071766e-06, 1.0871612e-06, 1.0288036e-06, 9.9888928e-07,\n",
       "       9.3268636e-07, 6.4755653e-07, 6.2013038e-07, 5.7195689e-07,\n",
       "       2.8719015e-07, 2.2426630e-07, 9.5753618e-09, 5.8149693e-14,\n",
       "       5.8149693e-14, 5.8149693e-14, 5.8149693e-14, 5.8149693e-14,\n",
       "       5.8149693e-14, 5.8149693e-14, 5.8149693e-14, 5.8149693e-14,\n",
       "       5.8149693e-14, 5.8149693e-14, 5.8149693e-14, 5.8149693e-14,\n",
       "       5.8149693e-14, 5.8149693e-14, 5.8149693e-14, 5.8149693e-14,\n",
       "       5.8149693e-14, 5.8149693e-14, 5.8149693e-14, 5.8149693e-14,\n",
       "       5.8149693e-14, 5.8149693e-14, 5.8149693e-14, 5.8149693e-14,\n",
       "       5.8149693e-14, 5.8149693e-14, 5.8149693e-14, 5.8149693e-14,\n",
       "       5.8149693e-14, 5.8149693e-14, 5.8149693e-14, 5.8149693e-14,\n",
       "       5.8149693e-14, 5.8149693e-14, 5.8149693e-14, 5.8149693e-14,\n",
       "       5.8149693e-14, 5.8149693e-14, 5.8149693e-14, 5.8149693e-14,\n",
       "       5.8149693e-14, 5.8149693e-14, 5.8149693e-14, 1.7940127e-14],\n",
       "      dtype=float32)"
      ]
     },
     "execution_count": 130,
     "metadata": {},
     "output_type": "execute_result"
    }
   ],
   "source": [
    "s"
   ]
  },
  {
   "cell_type": "code",
   "execution_count": 131,
   "metadata": {},
   "outputs": [
    {
     "data": {
      "text/plain": [
       "(6,)"
      ]
     },
     "execution_count": 131,
     "metadata": {},
     "output_type": "execute_result"
    }
   ],
   "source": [
    "v.shape"
   ]
  },
  {
   "cell_type": "code",
   "execution_count": 132,
   "metadata": {},
   "outputs": [
    {
     "data": {
      "text/plain": [
       "array([-7.7099646e-03, -3.0808956e-03,  1.8482941e-03,  4.2620995e-03,\n",
       "        8.5783256e-03, -4.6612336e-03,  2.3324832e-03,  1.1146803e-02,\n",
       "        2.6674296e-03,  8.3566774e-03, -1.0497255e-02,  8.8864577e-04,\n",
       "       -5.5313115e-03, -6.9852785e-04,  3.9597591e-03, -9.6174926e-03,\n",
       "        1.5241378e-02, -2.2428490e-02, -7.2602701e-04, -2.9620577e-03,\n",
       "        5.4534310e-03, -1.1789576e-02, -1.4162689e-02, -8.0987364e-03,\n",
       "        1.1381324e-03,  1.1742433e-02, -5.0396887e-03,  3.2176534e-03,\n",
       "       -4.7726380e-03, -8.5627474e-03, -7.2949461e-04, -5.8012488e-03,\n",
       "        3.0450430e-04,  1.1004503e-03, -1.9341044e-02, -3.4425466e-05,\n",
       "       -1.4630868e-03, -2.6762537e-03, -1.5210439e-03,  1.1908846e-02,\n",
       "       -4.4465791e-03,  1.2412342e-02, -3.0721838e-03,  6.9994037e-03,\n",
       "       -1.4835472e-02, -1.7803391e-03,  2.0881820e-02, -8.1251637e-04,\n",
       "       -6.3777543e-03,  3.4855274e-03, -7.0078652e-03,  1.5545589e-02,\n",
       "        1.1287698e-02,  1.4394358e-02, -6.7443452e-03, -8.2512037e-04,\n",
       "       -3.2836211e-05, -4.8935176e-06, -2.9359915e-06,  9.3558026e-07,\n",
       "        1.4308568e-05, -7.0792726e-07, -7.6428742e-06, -1.7348708e-05,\n",
       "        2.7490989e-05, -3.6180914e-05,  5.4695523e-05, -1.9050585e-05,\n",
       "        1.8360188e-05, -1.9523248e-05,  3.4461832e-06,  2.4418805e-05,\n",
       "        1.2270920e-05, -4.4275225e-06,  1.4281725e-06,  2.2891782e-05,\n",
       "       -1.2142663e-05,  1.0565034e-05, -5.3476633e-05,  3.1379412e-05,\n",
       "       -2.6081667e-05, -2.7569729e-05,  4.7800102e-05,  1.2437274e-05,\n",
       "        8.3379073e-06,  2.0731677e-05, -4.1156945e-05, -4.2425567e-05,\n",
       "       -3.5095141e-05, -4.5423232e-05, -3.4315337e-05,  1.3096521e-05,\n",
       "       -4.6206576e-05,  1.8240660e-05, -2.2608714e-05, -1.8478238e-05,\n",
       "        2.6245092e-05, -9.0347012e-06,  5.6370249e-07,  9.9785590e-01],\n",
       "      dtype=float32)"
      ]
     },
     "execution_count": 132,
     "metadata": {},
     "output_type": "execute_result"
    }
   ],
   "source": [
    "u[0, :]"
   ]
  },
  {
   "cell_type": "code",
   "execution_count": 133,
   "metadata": {},
   "outputs": [
    {
     "data": {
      "text/plain": [
       "(100,)"
      ]
     },
     "execution_count": 133,
     "metadata": {},
     "output_type": "execute_result"
    }
   ],
   "source": [
    "(s[0] * u[0, :]).shape"
   ]
  },
  {
   "cell_type": "code",
   "execution_count": 136,
   "metadata": {},
   "outputs": [
    {
     "data": {
      "text/plain": [
       "5.833462e-08"
      ]
     },
     "execution_count": 136,
     "metadata": {},
     "output_type": "execute_result"
    }
   ],
   "source": [
    "B1 = s[0] * u[:, 0].reshape(m, m)\n",
    "C1 = vt[0, :].reshape(n, n)\n",
    "np.linalg.norm(A-np.kron(B1, C1))/np.linalg.norm(A)"
   ]
  },
  {
   "cell_type": "code",
   "execution_count": 137,
   "metadata": {},
   "outputs": [],
   "source": [
    "import numpy as np\n",
    "import pandas as pd\n",
    "import torch\n",
    "\n",
    "m = 50\n",
    "n = 10\n",
    "\n",
    "B = torch.rand(m, m)\n",
    "B = B + B.T\n",
    "C = torch.rand(n, n)\n",
    "C = C + C.T\n",
    "\n",
    "A = torch.kron(B, C)\n",
    "\n",
    "noise1=torch.randn(A.size())*0.01"
   ]
  },
  {
   "cell_type": "code",
   "execution_count": 142,
   "metadata": {},
   "outputs": [
    {
     "data": {
      "text/plain": [
       "torch.Size([2500, 100])"
      ]
     },
     "execution_count": 142,
     "metadata": {},
     "output_type": "execute_result"
    }
   ],
   "source": [
    "A1.shape"
   ]
  },
  {
   "cell_type": "markdown",
   "metadata": {},
   "source": [
    "## 4"
   ]
  },
  {
   "cell_type": "code",
   "execution_count": 1,
   "metadata": {},
   "outputs": [
    {
     "ename": "NameError",
     "evalue": "name 'reshape_and_permute' is not defined",
     "output_type": "error",
     "traceback": [
      "\u001b[0;31m---------------------------------------------------------------------------\u001b[0m",
      "\u001b[0;31mNameError\u001b[0m                                 Traceback (most recent call last)",
      "Cell \u001b[0;32mIn[1], line 16\u001b[0m\n\u001b[1;32m     13\u001b[0m A \u001b[38;5;241m=\u001b[39m torch\u001b[38;5;241m.\u001b[39mkron(B, C)\n\u001b[1;32m     15\u001b[0m noise1\u001b[38;5;241m=\u001b[39mtorch\u001b[38;5;241m.\u001b[39mrandn(A\u001b[38;5;241m.\u001b[39msize())\u001b[38;5;241m*\u001b[39m\u001b[38;5;241m0.01\u001b[39m\n\u001b[0;32m---> 16\u001b[0m A1 \u001b[38;5;241m=\u001b[39m \u001b[43mreshape_and_permute\u001b[49m(A, m, n)\n\u001b[1;32m     19\u001b[0m \u001b[38;5;28;01mdef\u001b[39;00m \u001b[38;5;21mgetitem_fmatrix_permuted\u001b[39m(matrix, p, q):\n\u001b[1;32m     20\u001b[0m     \u001b[38;5;28;01mreturn\u001b[39;00m matrix[p][q]\n",
      "\u001b[0;31mNameError\u001b[0m: name 'reshape_and_permute' is not defined"
     ]
    }
   ],
   "source": [
    "import numpy as np\n",
    "import pandas as pd\n",
    "import torch\n",
    "\n",
    "m = 5\n",
    "n = 10\n",
    "\n",
    "B = torch.rand(m, m)\n",
    "B = B + B.T\n",
    "C = torch.rand(n, n)\n",
    "C = C + C.T\n",
    "\n",
    "A = torch.kron(B, C)\n",
    "\n",
    "noise1=torch.randn(A.size())*0.01\n",
    "A1 = reshape_and_permute(A, m, n)\n",
    "\n",
    "\n",
    "def getitem_fmatrix_permuted(matrix, p, q):\n",
    "    return matrix[p][q]\n",
    "\n",
    "from scipy.sparse.linalg import svds, LinearOperator\n",
    "\n",
    "#@jit\n",
    "def matvec_item_custom(x): #m**2\\times n**2, m**2 -> n**2 \n",
    "    #print (\"matvec_item_custom\")\n",
    "    print (\"matvec_item_custom\")\n",
    "    res =np.zeros((m**2))\n",
    "    for ind in range(m**2):\n",
    "        sum_ = 0.0\n",
    "        for jnd, elem in enumerate(x):\n",
    "            sum_+= getitem_fmatrix_permuted(A1, ind, jnd)*elem\n",
    "        res[ind] = sum_\n",
    "    return res\n",
    "\n",
    "#@jit\n",
    "def rmatvec_item_custom(x): # A.T*y\n",
    "    res = np.zeros((n**2))\n",
    "    print (\"rmatvec_item_custom\")\n",
    "    for ind in range(n**2):\n",
    "        #if (ind%10000) == 0:\n",
    "            #print (ind, \"from\", n**2)\n",
    "        sum_ = 0.0\n",
    "        for jnd, elem in enumerate(x):\n",
    "            #print (\"r\", jnd, ind)\n",
    "            sum_+= getitem_fmatrix_permuted(A1, jnd, ind)*elem\n",
    "        res[ind] = sum_\n",
    "    return res\n",
    "    \n",
    "\n",
    "print (\"start to create operator\", flush = True)\n",
    "\n",
    "\n",
    "linop_v = LinearOperator(\n",
    "                shape=(m**2,n**2),\n",
    "                matvec=matvec_item_custom,\n",
    "                rmatvec=rmatvec_item_custom\n",
    "                )\n",
    "\n",
    "\n",
    "print (\"operator created\", flush = True)\n",
    "\n",
    "print (\"svds...\", flush = True)\n",
    "\n",
    "v, s, u = svds(linop_v, k = 3, return_singular_vectors=True)\n"
   ]
  },
  {
   "cell_type": "code",
   "execution_count": null,
   "metadata": {},
   "outputs": [],
   "source": [
    "s "
   ]
  },
  {
   "cell_type": "code",
   "execution_count": 6,
   "metadata": {},
   "outputs": [
    {
     "data": {
      "text/plain": [
       "(3, 100)"
      ]
     },
     "execution_count": 6,
     "metadata": {},
     "output_type": "execute_result"
    }
   ],
   "source": [
    "u.shape"
   ]
  },
  {
   "cell_type": "code",
   "execution_count": 7,
   "metadata": {},
   "outputs": [
    {
     "name": "stdout",
     "output_type": "stream",
     "text": [
      "B1.shape, C1.shape (5, 5) (10, 10)\n"
     ]
    }
   ],
   "source": [
    "C1 = s[-1] * u[-1, :].reshape(n, n)\n",
    "B1 = v[:, -1].reshape(m, m)\n",
    "np.linalg.norm(A-np.kron(B1, C1))/np.linalg.norm(A)\n",
    "\n",
    "#B1 = cp.asnumpy(s[0] * u[0, :].reshape(n, n))\n",
    "#C1 = cp.asnumpy(v[:, 0].reshape(m, m))\n",
    "\n",
    "np.save(\"B1.npy\", B1)\n",
    "np.save(\"С1.npy\", C1)\n",
    "print (\"B1.shape, C1.shape\", B1.shape, C1.shape, flush = True)"
   ]
  },
  {
   "cell_type": "code",
   "execution_count": 8,
   "metadata": {},
   "outputs": [
    {
     "data": {
      "text/plain": [
       "1.015788833538741e-07"
      ]
     },
     "execution_count": 8,
     "metadata": {},
     "output_type": "execute_result"
    }
   ],
   "source": [
    "np.linalg.norm(A-np.kron(B1, C1))/np.linalg.norm(A)"
   ]
  },
  {
   "cell_type": "markdown",
   "metadata": {},
   "source": [
    "## 5"
   ]
  },
  {
   "cell_type": "code",
   "execution_count": 2,
   "metadata": {},
   "outputs": [],
   "source": [
    "m = 5\n",
    "n = 4"
   ]
  },
  {
   "cell_type": "code",
   "execution_count": 3,
   "metadata": {},
   "outputs": [],
   "source": [
    "def reshape_and_permute(A, m, n):\n",
    "    # Reshape to (m, n, m, n) in row-major order (default in PyTorch)\n",
    "    A_reshaped = A.reshape(m, n, m, n)\n",
    "    \n",
    "    # Permute the axes (0, 2, 1, 3) to interleave dimensions\n",
    "    A_permuted = A_reshaped.permute(0, 2, 1, 3)\n",
    "    \n",
    "    # Reshape to (m*m, n*n) in column-major order\n",
    "    RA = A_permuted.reshape(m * m, n * n)  # Transpose for column-major layout\n",
    "    \n",
    "    return RA"
   ]
  },
  {
   "cell_type": "code",
   "execution_count": 4,
   "metadata": {},
   "outputs": [],
   "source": [
    "import torch\n",
    "import cupy as cp\n",
    "import numpy as np\n",
    "from scipy.sparse.linalg import svds, LinearOperator\n",
    "import numba\n",
    "from numba import jit\n",
    "from numba import cuda\n",
    "\n",
    "#@cuda.jit\n",
    "\n",
    "# Load the tensor and convert to CuPy array\n",
    "#a = cp.asarray(torch.load(\"last_one.pt\")) old\n",
    "import numpy as np\n",
    "from numba import cuda\n",
    "from scipy.sparse.linalg import svds, LinearOperator\n",
    "import torch\n",
    "\n",
    "m = 50\n",
    "n = 100\n",
    "\n",
    "B = torch.rand(m, m)\n",
    "B = B + B.T\n",
    "C = torch.rand(n, n)\n",
    "C = C + C.T\n",
    "\n",
    "A = torch.kron(B, C)\n",
    "\n",
    "noise1=torch.randn(A.size())*0.01\n",
    "A1 = reshape_and_permute(A, m, n)\n",
    "\n",
    "\n",
    "\n",
    "\n",
    "torch.manual_seed(42)\n",
    "\n",
    "#import numpy as np\n",
    "d_A1 = cuda.to_device(A1)\n"
   ]
  },
  {
   "cell_type": "code",
   "execution_count": 6,
   "metadata": {},
   "outputs": [],
   "source": [
    "@cuda.jit\n",
    "def matvec_kernel(d_A1, x, res, m, n):\n",
    "    \"\"\"\n",
    "    CUDA kernel to compute matvec operation (A * x).\n",
    "    \"\"\"\n",
    "    idx = cuda.grid(1)\n",
    "    \n",
    "    #pd, pn = divmod(np.int32(idx), m)\n",
    "    if idx < res.size:  # Each thread computes one element of the result\n",
    "        sum_ = 0.0\n",
    "        for jnd in range(x.size):\n",
    "            #qd, qn = divmod(jnd, n)\n",
    "            sum_ += x[jnd]*d_A1[np.int32(idx)][jnd]\n",
    "        res[idx] = sum_\n",
    "        \n",
    "@cuda.jit\n",
    "def rmatvec_kernel(d_A1, x, res, m, n):\n",
    "    \"\"\"\n",
    "    CUDA kernel to compute rmatvec operation (A.T * x).\n",
    "    \"\"\"\n",
    "    idx = cuda.grid(1)\n",
    "    if idx < res.size:  # Each thread computes one element of the result\n",
    "        sum_ = 0.0\n",
    "        #pd, pn = divmod(np.int32(idx), m)\n",
    "        for jnd in range(x.size):\n",
    "            #qd, qn = divmod(jnd, n)\n",
    "            #jnd, idx\n",
    "            sum_ += x[jnd]*d_A1[jnd][np.int32(idx)]\n",
    "        res[idx] = sum_\n",
    "\n",
    "def matvec_item_custom(x):\n",
    "    \"\"\"\n",
    "    Host function to launch matvec_kernel.\n",
    "    \"\"\"\n",
    "    print (\"matvec\")\n",
    "    x = x.ravel()\n",
    "    res = np.zeros((m**2), dtype=np.float32)\n",
    "    threads_per_block = m\n",
    "    blocks_per_grid = m#(m**2 + threads_per_block - 1) // threads_per_block\n",
    "\n",
    "    #d_grad_vector = cuda.to_device(grad_vector)\n",
    "    d_x = cuda.to_device(x)\n",
    "    d_res = cuda.device_array((m**2), dtype=np.float32)\n",
    "\n",
    "    matvec_kernel[blocks_per_grid, threads_per_block](d_A1, d_x, d_res, m, n)\n",
    "\n",
    "    # Copy result back to host\n",
    "    res = d_res.copy_to_host()\n",
    "    return res\n",
    "\n",
    "def rmatvec_item_custom(x):\n",
    "    \"\"\"\n",
    "    Host function to launch rmatvec_kernel.\n",
    "    \"\"\"\n",
    "    res = np.zeros((n**2), dtype=np.float32)\n",
    "    x = x.ravel()\n",
    "    threads_per_block = n\n",
    "    blocks_per_grid = n#(n**2 + threads_per_block - 1) // threads_per_block\n",
    "\n",
    "    #d_grad_vector = cuda.to_device(grad_vector)\n",
    "    d_x = cuda.to_device(x)\n",
    "    d_res = cuda.device_array((n**2), dtype=np.float32)\n",
    "\n",
    "    rmatvec_kernel[blocks_per_grid, threads_per_block](d_A1, d_x, d_res, m, n)\n",
    "\n",
    "    # Copy result back to host\n",
    "    res = d_res.copy_to_host()\n",
    "    return res\n"
   ]
  },
  {
   "cell_type": "code",
   "execution_count": 7,
   "metadata": {},
   "outputs": [
    {
     "name": "stdout",
     "output_type": "stream",
     "text": [
      "matvec\n"
     ]
    },
    {
     "name": "stderr",
     "output_type": "stream",
     "text": [
      "/home/jovyan/.mlspace/envs/video_vika/lib/python3.10/site-packages/numba/cuda/dispatcher.py:536: NumbaPerformanceWarning: \u001b[1mGrid size 50 will likely result in GPU under-utilization due to low occupancy.\u001b[0m\n",
      "  warn(NumbaPerformanceWarning(msg))\n"
     ]
    },
    {
     "name": "stdout",
     "output_type": "stream",
     "text": [
      "Operator created\n",
      "Performing SVD...\n",
      "matvec\n",
      "matvec\n",
      "matvec\n",
      "matvec\n",
      "matvec\n"
     ]
    },
    {
     "name": "stderr",
     "output_type": "stream",
     "text": [
      "/home/jovyan/.mlspace/envs/video_vika/lib/python3.10/site-packages/numba/cuda/dispatcher.py:536: NumbaPerformanceWarning: \u001b[1mGrid size 100 will likely result in GPU under-utilization due to low occupancy.\u001b[0m\n",
      "  warn(NumbaPerformanceWarning(msg))\n"
     ]
    },
    {
     "name": "stdout",
     "output_type": "stream",
     "text": [
      "matvec\n",
      "matvec\n",
      "matvec\n",
      "matvec\n",
      "matvec\n",
      "matvec\n",
      "matvec\n",
      "matvec\n",
      "matvec\n",
      "matvec\n",
      "matvec\n",
      "matvec\n",
      "matvec\n",
      "matvec\n",
      "matvec\n",
      "matvec\n",
      "matvec\n",
      "matvec\n",
      "matvec\n",
      "matvec\n",
      "matvec\n",
      "matvec\n",
      "matvec\n",
      "matvec\n",
      "matvec\n",
      "matvec\n",
      "matvec\n",
      "matvec\n",
      "matvec\n",
      "matvec\n",
      "matvec\n",
      "matvec\n",
      "matvec\n",
      "matvec\n"
     ]
    }
   ],
   "source": [
    "linop_v = LinearOperator(\n",
    "    shape=(m**2, n**2),\n",
    "    matvec=matvec_item_custom,\n",
    "    rmatvec=rmatvec_item_custom\n",
    ")\n",
    "print(\"Operator created\", flush=True)\n",
    "\n",
    "# Compute SVD\n",
    "print(\"Performing SVD...\", flush=True)\n",
    "v, s, u = svds(linop_v, k = 10, return_singular_vectors=True)\n",
    "s = np.sort(s)[::-1]"
   ]
  },
  {
   "cell_type": "code",
   "execution_count": 8,
   "metadata": {},
   "outputs": [
    {
     "data": {
      "text/plain": [
       "array([5.8510996e+03, 4.4920002e-05, 5.9642912e-06, 5.7538664e-06,\n",
       "       5.7109200e-06, 5.6422855e-06, 5.5654741e-06, 5.5095538e-06,\n",
       "       4.9351111e-06, 5.5913085e-07], dtype=float32)"
      ]
     },
     "execution_count": 8,
     "metadata": {},
     "output_type": "execute_result"
    }
   ],
   "source": [
    "s"
   ]
  },
  {
   "cell_type": "code",
   "execution_count": 9,
   "metadata": {},
   "outputs": [
    {
     "data": {
      "text/plain": [
       "2.6713764e-07"
      ]
     },
     "execution_count": 9,
     "metadata": {},
     "output_type": "execute_result"
    }
   ],
   "source": [
    "C1 = s[0] * u[-1, :].reshape(n, n)\n",
    "B1 = v[:, -1].reshape(m, m)\n",
    "np.linalg.norm(A-np.kron(B1, C1))/np.linalg.norm(A)\n"
   ]
  },
  {
   "cell_type": "code",
   "execution_count": 6,
   "metadata": {},
   "outputs": [
    {
     "name": "stderr",
     "output_type": "stream",
     "text": [
      "/tmp/ipykernel_575344/3105363638.py:11: FutureWarning: You are using `torch.load` with `weights_only=False` (the current default value), which uses the default pickle module implicitly. It is possible to construct malicious pickle data which will execute arbitrary code during unpickling (See https://github.com/pytorch/pytorch/blob/main/SECURITY.md#untrusted-models for more details). In a future release, the default value for `weights_only` will be flipped to `True`. This limits the functions that could be executed during unpickling. Arbitrary objects will no longer be allowed to be loaded via this mode unless they are explicitly allowlisted by the user via `torch.serialization.add_safe_globals`. We recommend you start setting `weights_only=True` for any use case where you don't have full control of the loaded file. Please open an issue on GitHub for any issues related to this experimental feature.\n",
      "  a = torch.load(\"last_one.pt\")\n"
     ]
    }
   ],
   "source": [
    "import torch\n",
    "import cupy as cp\n",
    "import numpy as np\n",
    "from scipy.sparse.linalg import svds, LinearOperator\n",
    "import numba\n",
    "from numba import jit\n",
    "from numba import cuda\n",
    "\n",
    "#d_res = cuda.device_array((n**2), dtype=np.float32)\n",
    "\n",
    "a = torch.load(\"last_one.pt\")\n",
    "m = a.shape[0]\n",
    "n = a.shape[1]\n",
    "\n",
    "grad_vector = a.reshape(a.shape[0] * a.shape[1])\n",
    "\n",
    "d_grad_vector = cuda.to_device(grad_vector)\n",
    "\n",
    "torch.manual_seed(42)\n"
   ]
  },
  {
   "cell_type": "code",
   "execution_count": 2,
   "metadata": {},
   "outputs": [],
   "source": [
    "@cuda.jit\n",
    "def matvec_kernel(d_grad_vector, x, res, m, n):\n",
    "    \"\"\"\n",
    "    CUDA kernel to compute matvec operation (A * x).\n",
    "    \"\"\"\n",
    "    idx = cuda.grid(1)\n",
    "    \n",
    "    pd, pn = divmod(np.int32(idx), m)\n",
    "    if idx < res.size:  # Each thread computes one element of the result\n",
    "        sum_ = 0.0\n",
    "        for jnd in range(x.size):\n",
    "            qd, qn = divmod(jnd, n)\n",
    "            sum_ += x[jnd]*d_grad_vector[(pd)*n +qd]*d_grad_vector[(pn)*n + qn] \n",
    "        res[idx] = sum_\n",
    "        \n",
    "@cuda.jit\n",
    "def rmatvec_kernel(d_grad_vector, x, res, m, n):\n",
    "    \"\"\"\n",
    "    CUDA kernel to compute rmatvec operation (A.T * x).\n",
    "    \"\"\"\n",
    "    idx = cuda.grid(1)\n",
    "    if idx < res.size:  # Each thread computes one element of the result\n",
    "        sum_ = 0.0\n",
    "        pd, pn = divmod(np.int32(idx), n)\n",
    "        for jnd in range(x.size):\n",
    "            #qd, qn = divmod(jnd, m)\n",
    "            #jnd, idx\n",
    "            sum_ += x[jnd]*d_grad_vector[(jnd//m)*n +pd]*d_grad_vector[(jnd%m)*n + pn] \n",
    "        res[idx] = sum_\n",
    "\n",
    "def matvec_item_custom(x):\n",
    "    \"\"\"\n",
    "    Host function to launch matvec_kernel.\n",
    "    \"\"\"\n",
    "    print (\"matvec\")\n",
    "    x = x.ravel()\n",
    "    res = np.zeros((m**2), dtype=np.float32)\n",
    "    threads_per_block = 1024\n",
    "    blocks_per_grid = (m**2 + threads_per_block - 1) // threads_per_block\n",
    "\n",
    "\n",
    "    #d_grad_vector = cuda.to_device(grad_vector)\n",
    "    d_x = cuda.to_device(x)\n",
    "    d_res = cuda.device_array((m**2), dtype=np.float32)\n",
    "\n",
    "    matvec_kernel[blocks_per_grid, threads_per_block](d_grad_vector, d_x, d_res, m, n)\n",
    "\n",
    "    # Copy result back to host\n",
    "    res = d_res.copy_to_host()\n",
    "    return res\n",
    "\n",
    "def rmatvec_item_custom(x):\n",
    "    \"\"\"\n",
    "    Host function to launch rmatvec_kernel.\n",
    "    \"\"\"\n",
    "    res = np.zeros((n**2), dtype=np.float32)\n",
    "    print (\"rmatvec\")\n",
    "    x = x.ravel()\n",
    "    threads_per_block = 1024\n",
    "    blocks_per_grid = (n**2 + threads_per_block - 1) // threads_per_block\n",
    "\n",
    "\n",
    "    #d_grad_vector = cuda.to_device(grad_vector)\n",
    "    d_x = cuda.to_device(x)\n",
    "    d_res = cuda.device_array((n**2), dtype=np.float32)\n",
    "\n",
    "    rmatvec_kernel[blocks_per_grid, threads_per_block](d_grad_vector, d_x, d_res, m, n)\n",
    "\n",
    "    # Copy result back to host\n",
    "    res = d_res.copy_to_host()\n",
    "    return res"
   ]
  },
  {
   "cell_type": "code",
   "execution_count": null,
   "metadata": {},
   "outputs": [
    {
     "name": "stdout",
     "output_type": "stream",
     "text": [
      "matvec\n",
      "Operator created\n",
      "Performing SVD...\n",
      "matvec\n",
      "rmatvec\n",
      "matvec\n",
      "rmatvec\n",
      "matvec\n",
      "rmatvec\n",
      "rmatvec\n",
      "matvec\n",
      "rmatvec\n",
      "matvec\n",
      "rmatvec\n",
      "matvec\n",
      "matvec\n",
      "matvec\n",
      "matvec\n"
     ]
    }
   ],
   "source": [
    "# Create the operator\n",
    "#print(\"Start to create operator\", flush=True)\n",
    "linop_v = LinearOperator(\n",
    "    shape=(m**2, n**2),\n",
    "    matvec=matvec_item_custom,\n",
    "    rmatvec=rmatvec_item_custom\n",
    ")\n",
    "print(\"Operator created\", flush=True)\n",
    "\n",
    "#left = torch.rand(n*n)\n",
    "#right = torch.rand(m*m)\n",
    "\n",
    "#resl_2 = linop_v.matvec(left)\n",
    "#resr_2 = linop_v.rmatvec(right)\n",
    "\n",
    "# Compute SVD\n",
    "\n",
    "#right = torch.rand(m*m)\n",
    "#resr_2 = linop_v.rmatvec(right)\n",
    "\n",
    "print(\"Performing SVD...\", flush=True)\n",
    "v, s, u = svds(linop_v, k = 3, return_singular_vectors=True)\n",
    "s = np.sort(s)[::-1]"
   ]
  },
  {
   "cell_type": "code",
   "execution_count": 9,
   "metadata": {},
   "outputs": [
    {
     "data": {
      "text/plain": [
       "array([0.05736788, 0.01356099, 0.01356099], dtype=float32)"
      ]
     },
     "execution_count": 9,
     "metadata": {},
     "output_type": "execute_result"
    }
   ],
   "source": [
    "s"
   ]
  },
  {
   "cell_type": "code",
   "execution_count": 8,
   "metadata": {},
   "outputs": [
    {
     "data": {
      "text/plain": [
       "array([0.00514494, 0.00089495, 0.00067958], dtype=float32)"
      ]
     },
     "execution_count": 8,
     "metadata": {},
     "output_type": "execute_result"
    }
   ],
   "source": [
    "s"
   ]
  },
  {
   "cell_type": "code",
   "execution_count": 6,
   "metadata": {},
   "outputs": [
    {
     "data": {
      "text/plain": [
       "(768, 768)"
      ]
     },
     "execution_count": 6,
     "metadata": {},
     "output_type": "execute_result"
    }
   ],
   "source": [
    "C1.shape"
   ]
  },
  {
   "cell_type": "code",
   "execution_count": 7,
   "metadata": {},
   "outputs": [
    {
     "data": {
      "text/plain": [
       "False"
      ]
     },
     "execution_count": 7,
     "metadata": {},
     "output_type": "execute_result"
    }
   ],
   "source": [
    "C1 = s[0] * u[-1, :].reshape(n, n)\n",
    "B1 = v[:, -1].reshape(m, m)\n",
    "\n",
    "import numpy as np\n",
    "\n",
    "def is_pos_def(x):\n",
    "    return np.all(np.linalg.eigvals(x) > 0)\n",
    "\n",
    "is_pos_def(C1)"
   ]
  },
  {
   "cell_type": "code",
   "execution_count": 8,
   "metadata": {},
   "outputs": [
    {
     "data": {
      "text/plain": [
       "(768, 768)"
      ]
     },
     "execution_count": 8,
     "metadata": {},
     "output_type": "execute_result"
    }
   ],
   "source": [
    "C1.shape"
   ]
  },
  {
   "cell_type": "markdown",
   "metadata": {},
   "source": [
    "# 6"
   ]
  },
  {
   "cell_type": "code",
   "execution_count": 2,
   "metadata": {},
   "outputs": [],
   "source": [
    "import numpy as np\n",
    "v1 = np.load(\"v1.npy\")"
   ]
  },
  {
   "cell_type": "code",
   "execution_count": 5,
   "metadata": {},
   "outputs": [
    {
     "data": {
      "text/plain": [
       "array([-5.9843063e-05,  1.7552641e-04,  6.8138150e-05, ...,\n",
       "        3.3230128e-05, -3.9443701e-05,  7.7431898e-05], dtype=float32)"
      ]
     },
     "execution_count": 5,
     "metadata": {},
     "output_type": "execute_result"
    }
   ],
   "source": [
    "v1[:, -2]"
   ]
  },
  {
   "cell_type": "code",
   "execution_count": null,
   "metadata": {},
   "outputs": [],
   "source": []
  }
 ],
 "metadata": {
  "colab": {
   "provenance": []
  },
  "kernelspec": {
   "display_name": "Python [conda env:.mlspace-video_vika]",
   "language": "python",
   "name": "conda-env-.mlspace-video_vika-py"
  },
  "language_info": {
   "codemirror_mode": {
    "name": "ipython",
    "version": 3
   },
   "file_extension": ".py",
   "mimetype": "text/x-python",
   "name": "python",
   "nbconvert_exporter": "python",
   "pygments_lexer": "ipython3",
   "version": "3.10.15"
  }
 },
 "nbformat": 4,
 "nbformat_minor": 4
}
