{
 "cells": [
  {
   "cell_type": "code",
   "execution_count": 2,
   "metadata": {},
   "outputs": [],
   "source": [
    "import pickle\n",
    "import numpy as np\n",
    "import torch\n",
    "from tqdm.auto import tqdm\n",
    "from scipy.sparse.linalg import svds, LinearOperator\n",
    "from pathlib import Path\n",
    "from typing import Dict, List\n",
    "from matvecs import matvec_old, r_matvec_old"
   ]
  },
  {
   "cell_type": "code",
   "execution_count": 3,
   "metadata": {},
   "outputs": [],
   "source": [
    "def load_weight(path: Path) -> Dict[str, torch.Tensor]:\n",
    "    \"\"\"Load gradients from a pickle file.\"\"\"\n",
    "    with path.open(\"rb\") as f:\n",
    "        grads = pickle.load(f)\n",
    "    return grads\n"
   ]
  },
  {
   "cell_type": "code",
   "execution_count": 4,
   "metadata": {},
   "outputs": [],
   "source": [
    "weights = load_weight(Path(\"fishers/tensor_grad57_out.pickle\"))"
   ]
  },
  {
   "cell_type": "code",
   "execution_count": 13,
   "metadata": {},
   "outputs": [],
   "source": [
    "key = f\"bert.encoder.layer.0.output.dense\"\n",
    "l_grads: List[torch.Tensor] = weights[key]\n",
    "m, n = l_grads[0].shape\n",
    "\n",
    "# grad_vectors = torch.stack([grad_tensor.reshape(-1) for grad_tensor in l_grads])\n",
    "\n",
    "l_gradss = [grad.reshape(-1).numpy() for grad in l_grads]\n",
    "grad_vectors = np.stack([grad.reshape(n,m, order = 'F') for grad in l_gradss])"
   ]
  },
  {
   "cell_type": "code",
   "execution_count": 14,
   "metadata": {},
   "outputs": [],
   "source": [
    "linop_m = LinearOperator(\n",
    "    shape=(m**2, n**2),\n",
    "    matvec=lambda x: matvec_old(x, grad_vectors),\n",
    "    rmatvec=lambda x: r_matvec_old(x, grad_vectors) \n",
    ")\n",
    "\n",
    "u, s, vt = svds(linop_m, k=1, return_singular_vectors=True)\n",
    "\n",
    "sidx = np.argsort(-s)\n",
    "s = s[sidx]\n",
    "u = u[:, sidx]\n",
    "v = vt[sidx, :].T\n",
    "\n",
    "x_ = u[:, 0] * s[0]\n",
    "y_ = v[:, 0]\n",
    "XF = x_.reshape(m, m, order=\"F\")\n",
    "YF = y_.reshape(n, n, order=\"F\")\n",
    "\n",
    "np.save(\"fisher_factors/kron_factors_int/C1sgd_0_output.npy\", XF)\n",
    "np.save(\"fisher_factors/kron_factors_int/B1sgd_0_output.npy\", YF)"
   ]
  },
  {
   "cell_type": "code",
   "execution_count": 8,
   "metadata": {},
   "outputs": [],
   "source": []
  },
  {
   "cell_type": "code",
   "execution_count": 11,
   "metadata": {},
   "outputs": [],
   "source": []
  },
  {
   "cell_type": "code",
   "execution_count": null,
   "metadata": {},
   "outputs": [],
   "source": []
  }
 ],
 "metadata": {
  "kernelspec": {
   "display_name": "tox_analysis",
   "language": "python",
   "name": "python3"
  },
  "language_info": {
   "codemirror_mode": {
    "name": "ipython",
    "version": 3
   },
   "file_extension": ".py",
   "mimetype": "text/x-python",
   "name": "python",
   "nbconvert_exporter": "python",
   "pygments_lexer": "ipython3",
   "version": "3.9.19"
  }
 },
 "nbformat": 4,
 "nbformat_minor": 2
}
