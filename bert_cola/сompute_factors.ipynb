{
 "cells": [
  {
   "cell_type": "code",
   "execution_count": 1,
   "metadata": {},
   "outputs": [],
   "source": [
    "import pickle\n",
    "import numpy as np\n",
    "import torch\n",
    "from tqdm.auto import tqdm\n",
    "from scipy.sparse.linalg import svds, LinearOperator\n",
    "from pathlib import Path\n",
    "from typing import Dict, List"
   ]
  },
  {
   "cell_type": "code",
   "execution_count": 2,
   "metadata": {},
   "outputs": [],
   "source": [
    "def matvec(vec: np.ndarray, grad_vectors: np.ndarray) -> np.ndarray:\n",
    "    \"\"\"Compute the vectorized matvec operation.\n",
    "\n",
    "    This function computes the sum over i of the transposed product:\n",
    "    (grad_vectors[i].T @ V @ grad_vectors[i]).T, where V is vec reshaped\n",
    "    into an (m, m) matrix using Fortran order.\n",
    "\n",
    "    Args:\n",
    "        vec: A numpy array of shape (m*m,).\n",
    "        grad_vectors: A numpy array of shape (k, m, n).\n",
    "\n",
    "    Returns:\n",
    "        A numpy array of shape (n*n,).\n",
    "    \"\"\"\n",
    "    k, m, n = grad_vectors.shape\n",
    "    V = vec.reshape(m, m, order=\"F\")\n",
    "\n",
    "\n",
    "    result = np.einsum(\"ias,am,imr->sr\", grad_vectors, V, grad_vectors)\n",
    "    return result.T.ravel()\n",
    "\n",
    "def r_matvec(vec: np.ndarray, grad_vectors: np.ndarray) -> np.ndarray:\n",
    "    \"\"\"Compute the vectorized r_matvec operation.\n",
    "\n",
    "    This function computes the sum over i of the transposed product:\n",
    "    (grad_vectors[i] @ V @ grad_vectors[i].T).T, where V is vec reshaped\n",
    "    into an (n, n) matrix using Fortran order.\n",
    "\n",
    "    Args:\n",
    "        vec: A numpy array of shape (n*n,).\n",
    "        grad_vectors: A numpy array of shape (k, m, n).\n",
    "\n",
    "    Returns:\n",
    "        A numpy array of shape (m*m,).\n",
    "    \"\"\"\n",
    "    \n",
    "    k, m, n = grad_vectors.shape\n",
    "    V = vec.reshape(n, n, order=\"F\")\n",
    "    result = np.einsum(\"iqc,cd,ipd->pq\", grad_vectors, V, grad_vectors)\n",
    "    return result.ravel()\n",
    "\n",
    "def load_weight(path: Path) -> Dict[str, torch.Tensor]:\n",
    "    \"\"\"Load gradients from a pickle file.\"\"\"\n",
    "    with path.open(\"rb\") as f:\n",
    "        grads = pickle.load(f)\n",
    "    return grads\n"
   ]
  },
  {
   "cell_type": "code",
   "execution_count": 3,
   "metadata": {},
   "outputs": [],
   "source": [
    "weights = load_weight(Path(\"fishers/tensor_grad57_out.pickle\"))"
   ]
  },
  {
   "cell_type": "code",
   "execution_count": 4,
   "metadata": {},
   "outputs": [],
   "source": [
    "key = f\"bert.encoder.layer.0.intermediate.dense\"\n",
    "l_grads: List[torch.Tensor] = weights[key]\n",
    "m, n = l_grads[0].shape\n",
    "\n",
    "# grad_vectors = torch.stack([grad_tensor.reshape(-1) for grad_tensor in l_grads])\n",
    "\n",
    "l_gradss = [grad.reshape(-1).numpy() for grad in l_grads]\n",
    "grad_vectors = np.stack([grad.reshape(n,m, order = 'F') for grad in l_gradss])"
   ]
  },
  {
   "cell_type": "code",
   "execution_count": 5,
   "metadata": {},
   "outputs": [
    {
     "data": {
      "text/plain": [
       "(268, 768, 3072)"
      ]
     },
     "execution_count": 5,
     "metadata": {},
     "output_type": "execute_result"
    }
   ],
   "source": [
    "grad_vectors.shape"
   ]
  },
  {
   "cell_type": "code",
   "execution_count": null,
   "metadata": {},
   "outputs": [],
   "source": [
    "%%time \n",
    "\n",
    "linop_m = LinearOperator(\n",
    "    shape=(m**2, n**2),\n",
    "    matvec=lambda x: matvec(x, grad_vectors),\n",
    "    rmatvec=lambda x: r_matvec(x, grad_vectors) \n",
    ")\n",
    "\n",
    "u, s, vt = svds(linop_m, k=1, return_singular_vectors=True)"
   ]
  },
  {
   "cell_type": "code",
   "execution_count": null,
   "metadata": {},
   "outputs": [],
   "source": [
    "sidx = np.argsort(-s)\n",
    "s = s[sidx]\n",
    "u = u[:, sidx]\n",
    "v = vt[sidx, :].T\n",
    "\n",
    "x_ = u[:, 0] * s[0]\n",
    "y_ = v[:, 0]\n",
    "XF = x_.reshape(m, m, order=\"F\")\n",
    "YF = y_.reshape(n, n, order=\"F\")"
   ]
  },
  {
   "cell_type": "code",
   "execution_count": null,
   "metadata": {},
   "outputs": [],
   "source": []
  }
 ],
 "metadata": {
  "kernelspec": {
   "display_name": "tox_analysis",
   "language": "python",
   "name": "python3"
  },
  "language_info": {
   "codemirror_mode": {
    "name": "ipython",
    "version": 3
   },
   "file_extension": ".py",
   "mimetype": "text/x-python",
   "name": "python",
   "nbconvert_exporter": "python",
   "pygments_lexer": "ipython3",
   "version": "3.9.19"
  }
 },
 "nbformat": 4,
 "nbformat_minor": 2
}
