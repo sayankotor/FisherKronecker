{
 "cells": [
  {
   "cell_type": "markdown",
   "metadata": {
    "id": "BjpXhqlD3YB9"
   },
   "source": [
    "Create compression version of GPT-2 nad BERT model and save the memory =)"
   ]
  },
  {
   "cell_type": "markdown",
   "metadata": {
    "id": "5ctNs4pN3Rwu"
   },
   "source": [
    "## cola example"
   ]
  },
  {
   "cell_type": "markdown",
   "metadata": {
    "id": "dNvF070eC7wE"
   },
   "source": [
    "The Semantic Textual Similarity Benchmark (Cer et al., 2017) is a collection of sentence pairs drawn from news headlines, video and image captions, and natural language inference data. Each pair is human-annotated with a similarity score from 0 to 5."
   ]
  },
  {
   "cell_type": "code",
   "execution_count": 1,
   "metadata": {},
   "outputs": [],
   "source": [
    "import os\n",
    "#os.environ[\"CUDA_DEVICE_ORDER\"]=\"PCI_BUS_ID\"   # see issue #152\n",
    "os.environ[\"CUDA_VISIBLE_DEVICES\"]=\"0\"\n",
    "import pickle"
   ]
  },
  {
   "cell_type": "code",
   "execution_count": 2,
   "metadata": {},
   "outputs": [],
   "source": [
    "from transformers import Trainer\n",
    "import evaluate as ev\n",
    "import numpy as np\n",
    "\n",
    "from transformers import TrainingArguments, Trainer, EvalPrediction\n",
    "\n",
    "from datasets import load_dataset\n",
    "import pandas as pd\n",
    "\n",
    "from peft import (\n",
    "    get_peft_config,\n",
    "    get_peft_model,\n",
    "    get_peft_model_state_dict,\n",
    "    set_peft_model_state_dict,\n",
    "    LoraConfig,\n",
    "    PeftType,\n",
    "    PrefixTuningConfig,\n",
    "    PromptEncoderConfig,\n",
    ")"
   ]
  },
  {
   "cell_type": "code",
   "execution_count": 3,
   "metadata": {},
   "outputs": [
    {
     "data": {
      "text/plain": [
       "{'train': 67349, 'validation': 872, 'test': 1821}"
      ]
     },
     "execution_count": 3,
     "metadata": {},
     "output_type": "execute_result"
    }
   ],
   "source": [
    "dataset_cola = load_dataset('glue', 'sst2')\n",
    "dataset_cola.num_rows"
   ]
  },
  {
   "cell_type": "code",
   "execution_count": 4,
   "metadata": {},
   "outputs": [
    {
     "data": {
      "text/plain": [
       "{'sentence': \"that 's far too tragic to merit such superficial treatment \",\n",
       " 'label': 0,\n",
       " 'idx': 5}"
      ]
     },
     "execution_count": 4,
     "metadata": {},
     "output_type": "execute_result"
    }
   ],
   "source": [
    "dataset_cola['train'][5]"
   ]
  },
  {
   "cell_type": "code",
   "execution_count": 5,
   "metadata": {},
   "outputs": [],
   "source": [
    "label_list = dataset_cola[\"train\"].features[\"label\"].names\n",
    "num_labels = len(label_list)\n"
   ]
  },
  {
   "cell_type": "code",
   "execution_count": 6,
   "metadata": {
    "colab": {
     "base_uri": "https://localhost:8080/",
     "height": 457
    },
    "id": "R9FXSu4BDGhl",
    "outputId": "1b2caad8-1804-4590-c5fe-b167319ce129"
   },
   "outputs": [
    {
     "data": {
      "text/plain": [
       "{0, 1}"
      ]
     },
     "execution_count": 6,
     "metadata": {},
     "output_type": "execute_result"
    }
   ],
   "source": [
    "set(pd.DataFrame(dataset_cola['train']).label)"
   ]
  },
  {
   "cell_type": "code",
   "execution_count": 7,
   "metadata": {
    "colab": {
     "base_uri": "https://localhost:8080/"
    },
    "id": "iuaz-vJGDGl4",
    "outputId": "1179e9d4-dd04-4a48-cd46-f3b77041e517"
   },
   "outputs": [],
   "source": [
    "import torch\n",
    "torch.manual_seed(0)\n",
    "task_num_labels = num_labels\n",
    "\n",
    "from transformers import AutoConfig, BertConfig, AutoModelForSequenceClassification, AutoTokenizer\n",
    "\n",
    "path_name = r\"bert-base-uncased\"\n",
    "\n",
    "def load_model(path_name, num_labels):\n",
    "    config = AutoConfig.from_pretrained(\n",
    "        path_name,\n",
    "        num_labels=num_labels,\n",
    "    )\n",
    "    \n",
    "    model = AutoModelForSequenceClassification.from_pretrained(\n",
    "        path_name,\n",
    "        config=config,\n",
    "    )\n",
    "    #model.load_state_dict(torch.load(\"/home/jovyan/shares/SR004.nfs2/chekalina/FisherKronecker/bert_cola/bert_cola_lora.pth\"))\n",
    "    \n",
    "    tokenizer = AutoTokenizer.from_pretrained(path_name)\n",
    "\n",
    "    return model, tokenizer"
   ]
  },
  {
   "cell_type": "code",
   "execution_count": 8,
   "metadata": {},
   "outputs": [
    {
     "name": "stderr",
     "output_type": "stream",
     "text": [
      "Some weights of BertForSequenceClassification were not initialized from the model checkpoint at bert-base-uncased and are newly initialized: ['classifier.bias', 'classifier.weight']\n",
      "You should probably TRAIN this model on a down-stream task to be able to use it for predictions and inference.\n"
     ]
    }
   ],
   "source": [
    "model, tokenizer = load_model(path_name, num_labels)"
   ]
  },
  {
   "cell_type": "code",
   "execution_count": 9,
   "metadata": {},
   "outputs": [],
   "source": [
    "#model.load_state_dict(torch.load(\"/home/jovyan/shares/SR004.nfs2/chekalina/FisherKronecker/bert_cola/bert_cola_lora.pth\"))"
   ]
  },
  {
   "cell_type": "code",
   "execution_count": 10,
   "metadata": {},
   "outputs": [],
   "source": [
    "part_of = [\"bert.encoder.layer.1.intermediate.dense\",\"bert.encoder.layer.2.intermediate.dense\",\"bert.encoder.layer.3.intermediate.dense\",\"bert.encoder.layer.4.intermediate.dense\",\"bert.encoder.layer.5.intermediate.dense\", \"bert.encoder.layer.6.intermediate.dense\"]\n",
    "#peft_config = LoraConfig(task_type=\"SEQ_CLS\", inference_mode=False, r=8, target_modules=part_of, lora_alpha=16, lora_dropout=0.1)\n",
    "#model = get_peft_model(model, peft_config)\n",
    "#model.print_trainable_parameters()"
   ]
  },
  {
   "cell_type": "code",
   "execution_count": 11,
   "metadata": {},
   "outputs": [],
   "source": [
    "task_to_keys = {\n",
    "    \"cola\": (\"sentence\", None),\n",
    "    \"mnli\": (\"premise\", \"hypothesis\"),\n",
    "    \"mrpc\": (\"sentence1\", \"sentence2\"),\n",
    "    \"qnli\": (\"question\", \"sentence\"),\n",
    "    \"qqp\": (\"question1\", \"question2\"),\n",
    "    \"rte\": (\"sentence1\", \"sentence2\"),\n",
    "    \"sst2\": (\"sentence\", None),\n",
    "    \"stsb\": (\"sentence1\", \"sentence2\"),\n",
    "    \"wnli\": (\"sentence1\", \"sentence2\"),\n",
    "}\n",
    "sentence1_key, sentence2_key = task_to_keys['sst2']"
   ]
  },
  {
   "cell_type": "code",
   "execution_count": 12,
   "metadata": {},
   "outputs": [
    {
     "data": {
      "text/plain": [
       "('sentence', None)"
      ]
     },
     "execution_count": 12,
     "metadata": {},
     "output_type": "execute_result"
    }
   ],
   "source": [
    "sentence1_key, sentence2_key"
   ]
  },
  {
   "cell_type": "code",
   "execution_count": 13,
   "metadata": {},
   "outputs": [],
   "source": [
    "#torch.manual_seed(0)\n",
    "def preprocess_function(examples):\n",
    "        # Tokenize the texts\n",
    "        args = (\n",
    "            (examples[sentence1_key],) if sentence2_key is None else (examples[sentence1_key], examples[sentence2_key])\n",
    "        )\n",
    "        \n",
    "        \n",
    "        result = tokenizer(*args, max_length=128, truncation=True, padding=\"max_length\")\n",
    "\n",
    "        result[\"label\"] = examples[\"label\"]\n",
    "        return result"
   ]
  },
  {
   "cell_type": "code",
   "execution_count": 14,
   "metadata": {},
   "outputs": [
    {
     "data": {
      "text/plain": [
       "Dataset({\n",
       "    features: ['sentence', 'label', 'idx'],\n",
       "    num_rows: 67349\n",
       "})"
      ]
     },
     "execution_count": 14,
     "metadata": {},
     "output_type": "execute_result"
    }
   ],
   "source": [
    "dataset_cola['train']"
   ]
  },
  {
   "cell_type": "code",
   "execution_count": 15,
   "metadata": {},
   "outputs": [
    {
     "data": {
      "application/vnd.jupyter.widget-view+json": {
       "model_id": "ce72f36a7bb14f0d9ae7499ddffcc022",
       "version_major": 2,
       "version_minor": 0
      },
      "text/plain": [
       "Map:   0%|          | 0/67349 [00:00<?, ? examples/s]"
      ]
     },
     "metadata": {},
     "output_type": "display_data"
    },
    {
     "data": {
      "application/vnd.jupyter.widget-view+json": {
       "model_id": "de2d06e437cb45d28af18cc8e64ed17c",
       "version_major": 2,
       "version_minor": 0
      },
      "text/plain": [
       "Map:   0%|          | 0/872 [00:00<?, ? examples/s]"
      ]
     },
     "metadata": {},
     "output_type": "display_data"
    },
    {
     "data": {
      "application/vnd.jupyter.widget-view+json": {
       "model_id": "b130547a68d34a739f4cddff6a27c1dc",
       "version_major": 2,
       "version_minor": 0
      },
      "text/plain": [
       "Map:   0%|          | 0/1821 [00:00<?, ? examples/s]"
      ]
     },
     "metadata": {},
     "output_type": "display_data"
    }
   ],
   "source": [
    "tokenized_dataset = dataset_cola.map(\n",
    "            preprocess_function,\n",
    "            batched=True,\n",
    "            load_from_cache_file=False\n",
    "        )"
   ]
  },
  {
   "cell_type": "code",
   "execution_count": 16,
   "metadata": {},
   "outputs": [
    {
     "data": {
      "text/plain": [
       "DatasetDict({\n",
       "    train: Dataset({\n",
       "        features: ['sentence', 'label', 'idx', 'input_ids', 'token_type_ids', 'attention_mask'],\n",
       "        num_rows: 67349\n",
       "    })\n",
       "    validation: Dataset({\n",
       "        features: ['sentence', 'label', 'idx', 'input_ids', 'token_type_ids', 'attention_mask'],\n",
       "        num_rows: 872\n",
       "    })\n",
       "    test: Dataset({\n",
       "        features: ['sentence', 'label', 'idx', 'input_ids', 'token_type_ids', 'attention_mask'],\n",
       "        num_rows: 1821\n",
       "    })\n",
       "})"
      ]
     },
     "execution_count": 16,
     "metadata": {},
     "output_type": "execute_result"
    }
   ],
   "source": [
    "tokenized_dataset"
   ]
  },
  {
   "cell_type": "code",
   "execution_count": 17,
   "metadata": {
    "id": "C-SaqMaKDR6V"
   },
   "outputs": [
    {
     "name": "stderr",
     "output_type": "stream",
     "text": [
      "Using the latest cached version of the module from /home/jovyan/.cache/huggingface/modules/evaluate_modules/metrics/evaluate-metric--glue/05234ba7acc44554edcca0978db5fa3bc600eeee66229abe79ff9887eacaf3ed (last modified on Mon Jun 24 18:32:28 2024) since it couldn't be found locally at evaluate-metric--glue, or remotely on the Hugging Face Hub.\n"
     ]
    }
   ],
   "source": [
    "metric = ev.load(\"glue\", 'sst2')"
   ]
  },
  {
   "cell_type": "code",
   "execution_count": 18,
   "metadata": {
    "id": "-nswHzp0li7z"
   },
   "outputs": [],
   "source": [
    "import numpy as np\n",
    "import matplotlib.pyplot as plt"
   ]
  },
  {
   "cell_type": "code",
   "execution_count": 19,
   "metadata": {},
   "outputs": [],
   "source": [
    "def compute_metrics(p: EvalPrediction):\n",
    "        preds_ = p.predictions[0] if isinstance(p.predictions, tuple) else p.predictions\n",
    "        preds_ = np.argmax(preds_, axis=1)\n",
    "        \n",
    "        result = metric.compute(predictions=preds_, references=p.label_ids)\n",
    "        if True:\n",
    "            result[\"combined_score\"] = np.mean(list(result.values())).item()\n",
    "            return result\n",
    "        else:\n",
    "            return {\"accuracy\": (preds_ == p.label_ids).astype(np.float32).mean().item()}"
   ]
  },
  {
   "cell_type": "markdown",
   "metadata": {},
   "source": [
    "## collect lora grads"
   ]
  },
  {
   "cell_type": "code",
   "execution_count": 20,
   "metadata": {},
   "outputs": [
    {
     "name": "stdout",
     "output_type": "stream",
     "text": [
      "trainable params: 43,778 || all params: 109,527,556 || trainable%: 0.0400\n"
     ]
    }
   ],
   "source": [
    "part_of = [\"bert.encoder.layer.1.intermediate.dense\",\"bert.encoder.layer.2.intermediate.dense\",\"bert.encoder.layer.3.intermediate.dense\",\"bert.encoder.layer.4.intermediate.dense\",\"bert.encoder.layer.5.intermediate.dense\", \"bert.encoder.layer.6.intermediate.dense\", \"bert.encoder.layer.7.intermediate.dense\", \"bert.encoder.layer.8.intermediate.dense\", \"bert.encoder.layer.9.intermediate.dense\", \"bert.encoder.layer.10.intermediate.dense\", \"bert.encoder.layer.11.intermediate.dense\"]\n",
    "peft_config = LoraConfig(task_type=\"SEQ_CLS\", inference_mode=False, r=1, target_modules=part_of, lora_alpha=16, lora_dropout=0.1)\n",
    "model = get_peft_model(model, peft_config)\n",
    "model.print_trainable_parameters()"
   ]
  },
  {
   "cell_type": "code",
   "execution_count": 21,
   "metadata": {},
   "outputs": [],
   "source": [
    "from functools import reduce\n",
    "def get_module_by_name(module, access_string):\n",
    "     names = access_string.split(sep='.')\n",
    "     return reduce(getattr, names, module)"
   ]
  },
  {
   "cell_type": "code",
   "execution_count": 22,
   "metadata": {},
   "outputs": [],
   "source": [
    "class CustomTrainer(Trainer):\n",
    "    def make_grad_bank(self):\n",
    "        self.grads_A = dict() #defaultdict(torch.tensor)\n",
    "        self.grads_B = dict()\n",
    "        for name, module in self.model.base_model.model.named_modules():\n",
    "            name_m = \"module.\" + str(name)\n",
    "            if name in part_of:\n",
    "                print(\"Init ::\",name)\n",
    "                self.grads_A[name] = []\n",
    "                self.grads_B[name] = []\n",
    "        self.avg_counter = 0\n",
    "\n",
    "    def training_step(\n",
    "        self, model, inputs, num_items_in_batch=None\n",
    "    ) -> torch.Tensor:\n",
    "        \n",
    "        model.train()\n",
    "        if hasattr(self.optimizer, \"train\") and callable(self.optimizer.train):\n",
    "            self.optimizer.train()\n",
    "\n",
    "        inputs = self._prepare_inputs(inputs)\n",
    "\n",
    "        with self.compute_loss_context_manager():\n",
    "            loss = self.compute_loss(model, inputs).mean()\n",
    "\n",
    "        del inputs\n",
    "\n",
    "        kwargs = {}\n",
    "\n",
    "        if self.use_apex:\n",
    "            with amp.scale_loss(loss, self.optimizer) as scaled_loss:\n",
    "                scaled_loss.backward()\n",
    "        else:\n",
    "            self.accelerator.backward(loss, **kwargs)\n",
    "        for name, module in self.model.base_model.model.named_modules():\n",
    "            name_m = \"module.\" + str(name)\n",
    "            if name in part_of:\n",
    "                #print (\"collecting grads from \", name)\n",
    "                #new_var = get_module_by_name(model, name).weight.grad.detach().cpu()**2\n",
    "                #self.mass[name] += new_var\n",
    "                #new_var = get_module_by_name(model, name).weight.detach().cpu()\n",
    "                i= name.find('.')\n",
    "                res = name[i+1:]\n",
    "                self.grads_A[name].append(get_module_by_name(model, name).lora_A.default.weight.grad.detach().cpu().numpy())\n",
    "                self.grads_B[name].append(get_module_by_name(model, name).lora_B.default.weight.grad.detach().cpu().numpy())\n",
    "                #self.mass_w[name].append(get_module_by_name(model, name).weight.detach().cpu())\n",
    "\n",
    "            self.avg_counter += 1\n",
    "\n",
    "        return loss.detach() / self.args.gradient_accumulation_steps"
   ]
  },
  {
   "cell_type": "code",
   "execution_count": 23,
   "metadata": {},
   "outputs": [
    {
     "name": "stderr",
     "output_type": "stream",
     "text": [
      "/home/jovyan/shares/SR004.nfs2/kurkin/transformers/src/transformers/training_args.py:1612: FutureWarning: `evaluation_strategy` is deprecated and will be removed in version 4.46 of 🤗 Transformers. Use `eval_strategy` instead\n",
      "  warnings.warn(\n"
     ]
    }
   ],
   "source": [
    "training_args = TrainingArguments(\n",
    "    learning_rate=3e-4,\n",
    "    num_train_epochs=1,\n",
    "    evaluation_strategy=\"steps\",\n",
    "    skip_memory_metrics = False,\n",
    "    eval_steps=100,\n",
    "    per_device_train_batch_size=32,\n",
    "    per_device_eval_batch_size=128,\n",
    "    save_steps=1000,\n",
    "    overwrite_output_dir=True,\n",
    "    output_dir=\"./bert_stsb_128\",\n",
    "    # The next line is important to ensure the dataset labels are properly passed to the model\n",
    "    remove_unused_columns=True,\n",
    "    seed=297104,\n",
    "    report_to='none',\n",
    "    )"
   ]
  },
  {
   "cell_type": "code",
   "execution_count": 24,
   "metadata": {},
   "outputs": [
    {
     "name": "stdout",
     "output_type": "stream",
     "text": [
      "[2025-03-24 00:16:25,133] [INFO] [real_accelerator.py:222:get_accelerator] Setting ds_accelerator to cuda (auto detect)\n",
      "Warning: The cache directory for DeepSpeed Triton autotune, /home/jovyan/.triton/autotune, appears to be on an NFS system. While this is generally acceptable, if you experience slowdowns or hanging when DeepSpeed exits, it is recommended to set the TRITON_CACHE_DIR environment variable to a non-NFS path.\n"
     ]
    },
    {
     "name": "stderr",
     "output_type": "stream",
     "text": [
      "/home/jovyan/.mlspace/envs/kurkin_clone2/bin/../lib/gcc/x86_64-conda-linux-gnu/12.4.0/../../../../x86_64-conda-linux-gnu/bin/ld: cannot find -laio: No such file or directory\n",
      "collect2: error: ld returned 1 exit status\n",
      "/home/jovyan/.mlspace/envs/kurkin_clone2/bin/../lib/gcc/x86_64-conda-linux-gnu/12.4.0/../../../../x86_64-conda-linux-gnu/bin/ld: cannot find -laio: No such file or directory\n",
      "collect2: error: ld returned 1 exit status\n",
      "No label_names provided for model class `PeftModelForSequenceClassification`. Since `PeftModel` hides base models input arguments, if label_names is not given, label_names can't be set automatically within `Trainer`. Note that empty label_names list will be used instead.\n"
     ]
    },
    {
     "name": "stdout",
     "output_type": "stream",
     "text": [
      "Init :: bert.encoder.layer.1.intermediate.dense\n",
      "Init :: bert.encoder.layer.2.intermediate.dense\n",
      "Init :: bert.encoder.layer.3.intermediate.dense\n",
      "Init :: bert.encoder.layer.4.intermediate.dense\n",
      "Init :: bert.encoder.layer.5.intermediate.dense\n",
      "Init :: bert.encoder.layer.6.intermediate.dense\n",
      "Init :: bert.encoder.layer.7.intermediate.dense\n",
      "Init :: bert.encoder.layer.8.intermediate.dense\n",
      "Init :: bert.encoder.layer.9.intermediate.dense\n",
      "Init :: bert.encoder.layer.10.intermediate.dense\n",
      "Init :: bert.encoder.layer.11.intermediate.dense\n"
     ]
    }
   ],
   "source": [
    "trainer_collect = CustomTrainer(\n",
    "        model=model,\n",
    "        args=training_args,\n",
    "        train_dataset=tokenized_dataset[\"train\"],\n",
    "        eval_dataset=tokenized_dataset[\"validation\"],\n",
    "        compute_metrics=compute_metrics,\n",
    "    )\n",
    "trainer_collect.make_grad_bank()"
   ]
  },
  {
   "cell_type": "code",
   "execution_count": null,
   "metadata": {},
   "outputs": [],
   "source": [
    "trainer_collect.train()\n",
    "    "
   ]
  },
  {
   "cell_type": "code",
   "execution_count": 26,
   "metadata": {},
   "outputs": [],
   "source": [
    "list_A = {}\n",
    "list_B = {}\n",
    "for name, module in trainer_collect.model.base_model.model.named_modules():\n",
    "    name_m = \"module.\" + str(name)\n",
    "    if name in part_of:\n",
    "        list_A[name] = get_module_by_name(trainer_collect.model, name).lora_A.default.weight.detach().cpu().numpy()\n",
    "        list_B[name] = get_module_by_name(trainer_collect.model, name).lora_B.default.weight.detach().cpu().numpy()"
   ]
  },
  {
   "cell_type": "code",
   "execution_count": 27,
   "metadata": {},
   "outputs": [
    {
     "data": {
      "text/plain": [
       "{'eval_loss': 0.24791806936264038,\n",
       " 'eval_accuracy': 0.908256880733945,\n",
       " 'eval_combined_score': 0.908256880733945}"
      ]
     },
     "execution_count": 27,
     "metadata": {},
     "output_type": "execute_result"
    }
   ],
   "source": [
    "trainer_collect.evaluate()"
   ]
  },
  {
   "cell_type": "markdown",
   "metadata": {},
   "source": [
    "## collect factor grads"
   ]
  },
  {
   "cell_type": "code",
   "execution_count": 28,
   "metadata": {},
   "outputs": [],
   "source": [
    "\n",
    "with open('/home/jovyan/shares/SR004.nfs2/chekalina/FisherKronecker/bert_cola/lora/lora_grads_A.pickle', 'wb') as f:\n",
    "    pickle.dump(trainer_collect.grads_A, f)\n",
    "\n",
    "with open('/home/jovyan/shares/SR004.nfs2/chekalina/FisherKronecker/bert_cola/lora/lora_grads_B.pickle', 'wb') as f:\n",
    "    pickle.dump(trainer_collect.grads_B, f)"
   ]
  },
  {
   "cell_type": "markdown",
   "metadata": {},
   "source": [
    "## collect factor weigts"
   ]
  },
  {
   "cell_type": "code",
   "execution_count": 29,
   "metadata": {},
   "outputs": [],
   "source": [
    "with open('/home/jovyan/shares/SR004.nfs2/chekalina/FisherKronecker/bert_cola/lora/lora_A.pickle', 'wb') as f:\n",
    "    pickle.dump(list_A, f)\n",
    "\n",
    "with open('/home/jovyan/shares/SR004.nfs2/chekalina/FisherKronecker/bert_cola/lora/lora_B.pickle', 'wb') as f:\n",
    "    pickle.dump(list_B, f)"
   ]
  },
  {
   "cell_type": "code",
   "execution_count": 30,
   "metadata": {},
   "outputs": [
    {
     "data": {
      "text/plain": [
       "torch.Size([3072, 768])"
      ]
     },
     "execution_count": 30,
     "metadata": {},
     "output_type": "execute_result"
    }
   ],
   "source": [
    "w_before_merge = trainer_collect.model.base_model.model.bert.encoder.layer[7].intermediate.dense.base_layer.weight\n",
    "w_before_merge.shape"
   ]
  },
  {
   "cell_type": "code",
   "execution_count": 31,
   "metadata": {},
   "outputs": [
    {
     "data": {
      "text/plain": [
       "tensor([[ 0.0360, -0.0048, -0.0168,  0.0016,  0.0768],\n",
       "        [-0.1223, -0.0474,  0.0138,  0.0363, -0.0208],\n",
       "        [ 0.0302,  0.0256, -0.0531,  0.0263,  0.0047],\n",
       "        [ 0.0569, -0.0259, -0.0287, -0.0365, -0.0070],\n",
       "        [ 0.0372, -0.0503, -0.0198,  0.0090,  0.0521]], device='cuda:0')"
      ]
     },
     "execution_count": 31,
     "metadata": {},
     "output_type": "execute_result"
    }
   ],
   "source": [
    "w_before_merge[:5, :5]"
   ]
  },
  {
   "cell_type": "code",
   "execution_count": 32,
   "metadata": {},
   "outputs": [],
   "source": [
    "#merged_model = trainer_collect.model.unload()\n",
    "#trainer_collect.evaluate()"
   ]
  },
  {
   "cell_type": "code",
   "execution_count": 33,
   "metadata": {},
   "outputs": [
    {
     "data": {
      "text/plain": [
       "{'eval_loss': 0.24791808426380157,\n",
       " 'eval_accuracy': 0.908256880733945,\n",
       " 'eval_combined_score': 0.908256880733945}"
      ]
     },
     "execution_count": 33,
     "metadata": {},
     "output_type": "execute_result"
    }
   ],
   "source": [
    "merged_model = trainer_collect.model.merge_and_unload()\n",
    "trainer_collect.evaluate()"
   ]
  },
  {
   "cell_type": "code",
   "execution_count": 40,
   "metadata": {},
   "outputs": [],
   "source": [
    "def get_factor_left(list_of_lora_factors):\n",
    "    m, n = list_of_lora_factors[0].shape \n",
    "    list_of_grads1 = [grad.reshape(-1) for grad in list_of_lora_factors]\n",
    "\n",
    "    grad_vectors = np.stack([grad.reshape(n,m, order = 'F') for grad in list_of_grads1])\n",
    "    k, m, n = grad_vectors.shape\n",
    "    print (\"k, m, n\", k, m, n)\n",
    "    \n",
    "    res = np.zeros(n*n) \n",
    "    e_d = np.ones((m, 1))\n",
    "    V = (e_d@e_d.T)\n",
    "    d_size = V.shape[0]*V.shape[1]\n",
    "    for i in range(k):\n",
    "        res += (grad_vectors[i].T @ V@grad_vectors[i]).T.ravel()/d_size\n",
    "    return res/k\n",
    "\n",
    "def get_factor_right(list_of_lora_factors):\n",
    "    m, n = list_of_lora_factors[0].shape #cols rows in torch -> rows cols in numpy\n",
    "    list_of_grads1 = [grad.reshape(-1) for grad in list_of_lora_factors]\n",
    "\n",
    "    grad_vectors = np.stack([grad.reshape(n,m, order = 'F') for grad in list_of_grads1])\n",
    "    k, m, n = grad_vectors.shape\n",
    "    print (\"k, m, n\", k, m, n)\n",
    "    k, m, n = grad_vectors.shape\n",
    "    #e_d = np.ones((n, 1))\n",
    "    res = np.zeros(m*m) \n",
    "    e_d = np.ones((n, 1))\n",
    "    V = (e_d@e_d.T)\n",
    "    d_size = V.shape[0]*V.shape[1]\n",
    "    \n",
    "    for i in range(k):\n",
    "        res += (grad_vectors[i] @ V @grad_vectors[i].T).T.ravel()/d_size\n",
    "    return res/k"
   ]
  },
  {
   "cell_type": "code",
   "execution_count": 35,
   "metadata": {},
   "outputs": [],
   "source": [
    "def is_pos_def(x):\n",
    "    return np.all(np.linalg.eigvals(x) > 0)"
   ]
  },
  {
   "cell_type": "code",
   "execution_count": 36,
   "metadata": {},
   "outputs": [],
   "source": [
    "def replace_layer(model_base, layer_name, list_factors_A, list_factors_B, A, B):\n",
    "    #print (\"weight_old\",model_base.bert.encoder.layer[7].intermediate.dense.weight)\n",
    "    dW_old = B@A\n",
    "    print (\"\\n\\n\\n\")\n",
    "    \n",
    "    m, n = list_factors_A[0].shape\n",
    "    R = get_factor_right(list_factors_A).reshape(n, n, order='F')\n",
    "    m, n = list_factors_B[0].shape\n",
    "    LT = get_factor_left(list_factors_B).reshape(m, m, order='F')\n",
    "    \n",
    "    #print (LT.shape, \"LT.Shape\")\n",
    "    #print (B.shape, \"B.Shape\")\n",
    "    #print (A.shape, \"A.Shape\")\n",
    "    #print (R.shape, \"R.Shape\")\n",
    "    #print (\"Lt\", LT[:5, :5])\n",
    "    #print (\"R\", R[:5, :5])\n",
    "    alpha = 0.0\n",
    "    LT_new = LT\n",
    "    while (not is_pos_def(LT_new)):\n",
    "        alpha += 0.1\n",
    "        print (alpha)\n",
    "        LT_new  = (1 - alpha)*LT  + alpha*np.eye(len(np.diag(LT)))\n",
    "    \n",
    "\n",
    "    alpha = 0.0\n",
    "    R_new = R\n",
    "    while (not is_pos_def(R_new)):\n",
    "        alpha += 0.1\n",
    "        print (alpha)\n",
    "        R_new = (1 - alpha)*R  + alpha*np.eye(len(np.diag(R)))\n",
    "    \n",
    "    LT_square = np.linalg.cholesky(LT_new)\n",
    "    R_square = np.linalg.cholesky(R_new)\n",
    "    qb, rb = np.linalg.qr(LT_square@B)\n",
    "    qa, ra = np.linalg.qr(R_square.T@A.T)\n",
    "    print (rb.shape)\n",
    "    print (ra.T.shape)\n",
    "    U, S, Vt = np.linalg.svd(rb@ra.T)#np.linalg.svd(LT@P@Q@R)\n",
    "    U_new = qb@U\n",
    "    Vt_new = Vt@(qa.T)\n",
    "    #Vt_new = Vt @ np.linalg.inv(R_square)\n",
    "    #U_new = np.linalg.inv(LT_square) @ U\n",
    "\n",
    "    #dW_old = B@A\n",
    "    dW = U_new[:,:len(S)]@np.diag(S)@Vt_new\n",
    "    print (\"dw old\", dW_old[:5, :5])\n",
    "    print (\"dw new\", dW[:5, :5])\n",
    "    #print (model_base.bert.encoder.layer[1].intermediate.dense.weight[:5, :5])\n",
    "    i = int(layer_name.split('.')[3])\n",
    "    with torch.no_grad():\n",
    "        if \"intermediate\" in layer_name:\n",
    "            model_base.bert.encoder.layer[i].intermediate.dense.weight += torch.tensor(dW).to(model_base.device)\n",
    "        else:\n",
    "            model_base.bert.encoder.layer[i].output.dense.weight += torch.tensor(dW_old).to(model_base.device)"
   ]
  },
  {
   "cell_type": "code",
   "execution_count": 37,
   "metadata": {},
   "outputs": [
    {
     "data": {
      "text/plain": [
       "753"
      ]
     },
     "execution_count": 37,
     "metadata": {},
     "output_type": "execute_result"
    }
   ],
   "source": [
    "len(trainer_collect.grads_A[\"bert.encoder.layer.7.intermediate.dense\"])"
   ]
  },
  {
   "cell_type": "code",
   "execution_count": 43,
   "metadata": {},
   "outputs": [
    {
     "name": "stdout",
     "output_type": "stream",
     "text": [
      "layer_name bert.encoder.layer.6.intermediate.dense\n",
      "\n",
      "\n",
      "\n",
      "\n",
      "k, m, n 753 768 1\n",
      "k, m, n 753 1 3072\n",
      "0.1\n",
      "0.1\n",
      "(1, 1)\n",
      "(1, 1)\n",
      "dw old [[ 3.4540356e-04 -1.9559047e-04 -5.4897678e-06  2.9698669e-04\n",
      "   5.4308380e-06]\n",
      " [-3.1800839e-04  1.8007752e-04  5.0543549e-06 -2.7343165e-04\n",
      "  -5.0000995e-06]\n",
      " [-5.0901499e-04  2.8823817e-04  8.0901718e-06 -4.3766393e-04\n",
      "  -8.0033287e-06]\n",
      " [ 5.4320780e-04 -3.0760039e-04 -8.6336249e-06  4.6706377e-04\n",
      "   8.5409474e-06]\n",
      " [-4.2654601e-06  2.4153871e-06  6.7794275e-08 -3.6675501e-06\n",
      "  -6.7066544e-08]]\n",
      "dw new [[ 3.42352887e-05 -1.90654874e-05 -1.90534513e-06  2.97840165e-05\n",
      "  -7.59697035e-07]\n",
      " [-3.15627614e-05  1.75771682e-05  1.75660717e-06 -2.74589711e-05\n",
      "   7.00392406e-07]\n",
      " [-5.05961476e-05  2.81767804e-05  2.81589923e-06 -4.40176364e-05\n",
      "   1.12275213e-06]\n",
      " [ 5.37904071e-05 -2.99556501e-05 -2.99367390e-06  4.67965784e-05\n",
      "  -1.19363424e-06]\n",
      " [-5.00203512e-07  2.78561219e-07  2.78385362e-08 -4.35167052e-07\n",
      "   1.10997494e-08]]\n"
     ]
    }
   ],
   "source": [
    "reduced_part_of = [\"bert.encoder.layer.7.intermediate.dense\", \"bert.encoder.layer.5.intermediate.dense\", \"bert.encoder.layer.6.intermediate.dense\", \"bert.encoder.layer.2.intermediate.dense\", \"bert.encoder.layer.4.intermediate.dense\", \"bert.encoder.layer.3.intermediate.dense\", \"bert.encoder.layer.1.intermediate.dense\"]\n",
    "#part_of = [\"bert.encoder.layer.1.intermediate.dense\",\"bert.encoder.layer.2.intermediate.dense\",\"bert.encoder.layer.3.intermediate.dense\",\"bert.encoder.layer.4.intermediate.dense\",\"bert.encoder.layer.5.intermediate.dense\", \"bert.encoder.layer.6.intermediate.dense\", \"bert.encoder.layer.7.intermediate.dense\", \"bert.encoder.layer.8.intermediate.dense\", \"bert.encoder.layer.9.intermediate.dense\", \"bert.encoder.layer.10.intermediate.dense\", \"bert.encoder.layer.11.intermediate.dense\", \"bert.encoder.layer.1.output.dense\",\"bert.encoder.layer.2.output.dense\",\"bert.encoder.layer.3.output.dense\",\"bert.encoder.layer.4.output.dense\",\"bert.encoder.layer.5.output.dense\", \"bert.encoder.layer.6.output.dense\", \"bert.encoder.layer.7.output.dense\", \"bert.encoder.layer.8.output.dense\", \"bert.encoder.layer.9.output.dense\", \"bert.encoder.layer.10.output.dense\", \"bert.encoder.layer.11.output.dense\"]\n",
    "\n",
    "for layer_name in [\"bert.encoder.layer.6.intermediate.dense\"]:\n",
    "    print (\"layer_name\", layer_name)\n",
    "    list_factors_A = trainer_collect.grads_A[layer_name]\n",
    "    list_factors_B = trainer_collect.grads_B[layer_name]\n",
    "    P = list_A[layer_name]\n",
    "    Q = list_B[layer_name]\n",
    "    replace_layer(trainer_collect.model, layer_name, list_factors_A, list_factors_B, P, Q)"
   ]
  },
  {
   "cell_type": "code",
   "execution_count": 42,
   "metadata": {},
   "outputs": [
    {
     "data": {
      "text/plain": [
       "{'eval_loss': 0.2479955404996872,\n",
       " 'eval_accuracy': 0.908256880733945,\n",
       " 'eval_combined_score': 0.908256880733945}"
      ]
     },
     "execution_count": 42,
     "metadata": {},
     "output_type": "execute_result"
    }
   ],
   "source": [
    "#trainer = Trainer(\n",
    "#        model=model,\n",
    "#        args=training_args,\n",
    "#        train_dataset=tokenized_dataset[\"train\"],\n",
    "#        eval_dataset=tokenized_dataset[\"validation\"],\n",
    "#        compute_metrics = compute_metrics,\n",
    "#)\n",
    "trainer_collect.evaluate()"
   ]
  },
  {
   "cell_type": "code",
   "execution_count": null,
   "metadata": {},
   "outputs": [],
   "source": [
    "model.bert.encoder.layer[1].intermediate.dense.weight[:5,:5]"
   ]
  },
  {
   "cell_type": "code",
   "execution_count": null,
   "metadata": {},
   "outputs": [],
   "source": []
  },
  {
   "cell_type": "code",
   "execution_count": null,
   "metadata": {},
   "outputs": [],
   "source": []
  }
 ],
 "metadata": {
  "accelerator": "GPU",
  "colab": {
   "provenance": []
  },
  "gpuClass": "standard",
  "kernelspec": {
   "display_name": "Python [conda env:.mlspace-kurkin_clone2]",
   "language": "python",
   "name": "conda-env-.mlspace-kurkin_clone2-py"
  },
  "language_info": {
   "codemirror_mode": {
    "name": "ipython",
    "version": 3
   },
   "file_extension": ".py",
   "mimetype": "text/x-python",
   "name": "python",
   "nbconvert_exporter": "python",
   "pygments_lexer": "ipython3",
   "version": "3.12.5"
  },
  "widgets": {
   "application/vnd.jupyter.widget-state+json": {
    "057511dabee74d5c9d6584f20ae061a8": {
     "model_module": "@jupyter-widgets/controls",
     "model_module_version": "1.5.0",
     "model_name": "HTMLModel",
     "state": {
      "_dom_classes": [],
      "_model_module": "@jupyter-widgets/controls",
      "_model_module_version": "1.5.0",
      "_model_name": "HTMLModel",
      "_view_count": null,
      "_view_module": "@jupyter-widgets/controls",
      "_view_module_version": "1.5.0",
      "_view_name": "HTMLView",
      "description": "",
      "description_tooltip": null,
      "layout": "IPY_MODEL_8b055d59e3a34dd58eaf5437de9b43cb",
      "placeholder": "​",
      "style": "IPY_MODEL_262c2cb25f5246bf98be93c695ac02e2",
      "value": "Map:  67%"
     }
    },
    "0baedf7adf1d4eb59bbcd8b23f43bc51": {
     "model_module": "@jupyter-widgets/base",
     "model_module_version": "1.2.0",
     "model_name": "LayoutModel",
     "state": {
      "_model_module": "@jupyter-widgets/base",
      "_model_module_version": "1.2.0",
      "_model_name": "LayoutModel",
      "_view_count": null,
      "_view_module": "@jupyter-widgets/base",
      "_view_module_version": "1.2.0",
      "_view_name": "LayoutView",
      "align_content": null,
      "align_items": null,
      "align_self": null,
      "border": null,
      "bottom": null,
      "display": null,
      "flex": null,
      "flex_flow": null,
      "grid_area": null,
      "grid_auto_columns": null,
      "grid_auto_flow": null,
      "grid_auto_rows": null,
      "grid_column": null,
      "grid_gap": null,
      "grid_row": null,
      "grid_template_areas": null,
      "grid_template_columns": null,
      "grid_template_rows": null,
      "height": null,
      "justify_content": null,
      "justify_items": null,
      "left": null,
      "margin": null,
      "max_height": null,
      "max_width": null,
      "min_height": null,
      "min_width": null,
      "object_fit": null,
      "object_position": null,
      "order": null,
      "overflow": null,
      "overflow_x": null,
      "overflow_y": null,
      "padding": null,
      "right": null,
      "top": null,
      "visibility": null,
      "width": null
     }
    },
    "107ebf20c12f46c6a7bf7455aed44fd4": {
     "model_module": "@jupyter-widgets/base",
     "model_module_version": "1.2.0",
     "model_name": "LayoutModel",
     "state": {
      "_model_module": "@jupyter-widgets/base",
      "_model_module_version": "1.2.0",
      "_model_name": "LayoutModel",
      "_view_count": null,
      "_view_module": "@jupyter-widgets/base",
      "_view_module_version": "1.2.0",
      "_view_name": "LayoutView",
      "align_content": null,
      "align_items": null,
      "align_self": null,
      "border": null,
      "bottom": null,
      "display": null,
      "flex": null,
      "flex_flow": null,
      "grid_area": null,
      "grid_auto_columns": null,
      "grid_auto_flow": null,
      "grid_auto_rows": null,
      "grid_column": null,
      "grid_gap": null,
      "grid_row": null,
      "grid_template_areas": null,
      "grid_template_columns": null,
      "grid_template_rows": null,
      "height": null,
      "justify_content": null,
      "justify_items": null,
      "left": null,
      "margin": null,
      "max_height": null,
      "max_width": null,
      "min_height": null,
      "min_width": null,
      "object_fit": null,
      "object_position": null,
      "order": null,
      "overflow": null,
      "overflow_x": null,
      "overflow_y": null,
      "padding": null,
      "right": null,
      "top": null,
      "visibility": null,
      "width": null
     }
    },
    "1e4aac8fa6f64eaaa8cdd0a4dcb3feb2": {
     "model_module": "@jupyter-widgets/base",
     "model_module_version": "1.2.0",
     "model_name": "LayoutModel",
     "state": {
      "_model_module": "@jupyter-widgets/base",
      "_model_module_version": "1.2.0",
      "_model_name": "LayoutModel",
      "_view_count": null,
      "_view_module": "@jupyter-widgets/base",
      "_view_module_version": "1.2.0",
      "_view_name": "LayoutView",
      "align_content": null,
      "align_items": null,
      "align_self": null,
      "border": null,
      "bottom": null,
      "display": null,
      "flex": null,
      "flex_flow": null,
      "grid_area": null,
      "grid_auto_columns": null,
      "grid_auto_flow": null,
      "grid_auto_rows": null,
      "grid_column": null,
      "grid_gap": null,
      "grid_row": null,
      "grid_template_areas": null,
      "grid_template_columns": null,
      "grid_template_rows": null,
      "height": null,
      "justify_content": null,
      "justify_items": null,
      "left": null,
      "margin": null,
      "max_height": null,
      "max_width": null,
      "min_height": null,
      "min_width": null,
      "object_fit": null,
      "object_position": null,
      "order": null,
      "overflow": null,
      "overflow_x": null,
      "overflow_y": null,
      "padding": null,
      "right": null,
      "top": null,
      "visibility": "hidden",
      "width": null
     }
    },
    "23457030dca94744ba5ef7167010a44b": {
     "model_module": "@jupyter-widgets/base",
     "model_module_version": "1.2.0",
     "model_name": "LayoutModel",
     "state": {
      "_model_module": "@jupyter-widgets/base",
      "_model_module_version": "1.2.0",
      "_model_name": "LayoutModel",
      "_view_count": null,
      "_view_module": "@jupyter-widgets/base",
      "_view_module_version": "1.2.0",
      "_view_name": "LayoutView",
      "align_content": null,
      "align_items": null,
      "align_self": null,
      "border": null,
      "bottom": null,
      "display": null,
      "flex": null,
      "flex_flow": null,
      "grid_area": null,
      "grid_auto_columns": null,
      "grid_auto_flow": null,
      "grid_auto_rows": null,
      "grid_column": null,
      "grid_gap": null,
      "grid_row": null,
      "grid_template_areas": null,
      "grid_template_columns": null,
      "grid_template_rows": null,
      "height": null,
      "justify_content": null,
      "justify_items": null,
      "left": null,
      "margin": null,
      "max_height": null,
      "max_width": null,
      "min_height": null,
      "min_width": null,
      "object_fit": null,
      "object_position": null,
      "order": null,
      "overflow": null,
      "overflow_x": null,
      "overflow_y": null,
      "padding": null,
      "right": null,
      "top": null,
      "visibility": null,
      "width": null
     }
    },
    "262c2cb25f5246bf98be93c695ac02e2": {
     "model_module": "@jupyter-widgets/controls",
     "model_module_version": "1.5.0",
     "model_name": "DescriptionStyleModel",
     "state": {
      "_model_module": "@jupyter-widgets/controls",
      "_model_module_version": "1.5.0",
      "_model_name": "DescriptionStyleModel",
      "_view_count": null,
      "_view_module": "@jupyter-widgets/base",
      "_view_module_version": "1.2.0",
      "_view_name": "StyleView",
      "description_width": ""
     }
    },
    "26617b09c9fe431b8f21016b18d46931": {
     "model_module": "@jupyter-widgets/base",
     "model_module_version": "1.2.0",
     "model_name": "LayoutModel",
     "state": {
      "_model_module": "@jupyter-widgets/base",
      "_model_module_version": "1.2.0",
      "_model_name": "LayoutModel",
      "_view_count": null,
      "_view_module": "@jupyter-widgets/base",
      "_view_module_version": "1.2.0",
      "_view_name": "LayoutView",
      "align_content": null,
      "align_items": null,
      "align_self": null,
      "border": null,
      "bottom": null,
      "display": null,
      "flex": null,
      "flex_flow": null,
      "grid_area": null,
      "grid_auto_columns": null,
      "grid_auto_flow": null,
      "grid_auto_rows": null,
      "grid_column": null,
      "grid_gap": null,
      "grid_row": null,
      "grid_template_areas": null,
      "grid_template_columns": null,
      "grid_template_rows": null,
      "height": null,
      "justify_content": null,
      "justify_items": null,
      "left": null,
      "margin": null,
      "max_height": null,
      "max_width": null,
      "min_height": null,
      "min_width": null,
      "object_fit": null,
      "object_position": null,
      "order": null,
      "overflow": null,
      "overflow_x": null,
      "overflow_y": null,
      "padding": null,
      "right": null,
      "top": null,
      "visibility": null,
      "width": null
     }
    },
    "29fa7925280440f38681549118bcb8d9": {
     "model_module": "@jupyter-widgets/controls",
     "model_module_version": "1.5.0",
     "model_name": "DescriptionStyleModel",
     "state": {
      "_model_module": "@jupyter-widgets/controls",
      "_model_module_version": "1.5.0",
      "_model_name": "DescriptionStyleModel",
      "_view_count": null,
      "_view_module": "@jupyter-widgets/base",
      "_view_module_version": "1.2.0",
      "_view_name": "StyleView",
      "description_width": ""
     }
    },
    "2c1267fcb30e454698a54a39d4db222e": {
     "model_module": "@jupyter-widgets/controls",
     "model_module_version": "1.5.0",
     "model_name": "FloatProgressModel",
     "state": {
      "_dom_classes": [],
      "_model_module": "@jupyter-widgets/controls",
      "_model_module_version": "1.5.0",
      "_model_name": "FloatProgressModel",
      "_view_count": null,
      "_view_module": "@jupyter-widgets/controls",
      "_view_module_version": "1.5.0",
      "_view_name": "ProgressView",
      "bar_style": "success",
      "description": "",
      "description_tooltip": null,
      "layout": "IPY_MODEL_23457030dca94744ba5ef7167010a44b",
      "max": 3,
      "min": 0,
      "orientation": "horizontal",
      "style": "IPY_MODEL_f95bef18cfba4c5ab2eba121ab33ae66",
      "value": 3
     }
    },
    "38d52c3d020d4c228b4084c8eee9d326": {
     "model_module": "@jupyter-widgets/base",
     "model_module_version": "1.2.0",
     "model_name": "LayoutModel",
     "state": {
      "_model_module": "@jupyter-widgets/base",
      "_model_module_version": "1.2.0",
      "_model_name": "LayoutModel",
      "_view_count": null,
      "_view_module": "@jupyter-widgets/base",
      "_view_module_version": "1.2.0",
      "_view_name": "LayoutView",
      "align_content": null,
      "align_items": null,
      "align_self": null,
      "border": null,
      "bottom": null,
      "display": null,
      "flex": null,
      "flex_flow": null,
      "grid_area": null,
      "grid_auto_columns": null,
      "grid_auto_flow": null,
      "grid_auto_rows": null,
      "grid_column": null,
      "grid_gap": null,
      "grid_row": null,
      "grid_template_areas": null,
      "grid_template_columns": null,
      "grid_template_rows": null,
      "height": null,
      "justify_content": null,
      "justify_items": null,
      "left": null,
      "margin": null,
      "max_height": null,
      "max_width": null,
      "min_height": null,
      "min_width": null,
      "object_fit": null,
      "object_position": null,
      "order": null,
      "overflow": null,
      "overflow_x": null,
      "overflow_y": null,
      "padding": null,
      "right": null,
      "top": null,
      "visibility": null,
      "width": null
     }
    },
    "5119dea8736e46e4be120507db125d4b": {
     "model_module": "@jupyter-widgets/controls",
     "model_module_version": "1.5.0",
     "model_name": "HBoxModel",
     "state": {
      "_dom_classes": [],
      "_model_module": "@jupyter-widgets/controls",
      "_model_module_version": "1.5.0",
      "_model_name": "HBoxModel",
      "_view_count": null,
      "_view_module": "@jupyter-widgets/controls",
      "_view_module_version": "1.5.0",
      "_view_name": "HBoxView",
      "box_style": "",
      "children": [
       "IPY_MODEL_c91e453c6b6f488e8754dbcf8891d273",
       "IPY_MODEL_f74908d8aba74c92abd314e3b6ec362c",
       "IPY_MODEL_6b59bcb3d6904b319076919152b4b0d5"
      ],
      "layout": "IPY_MODEL_b579941154704f5ba085c6ccc65b3918"
     }
    },
    "5686f61356ed4a64913bad84c763732e": {
     "model_module": "@jupyter-widgets/controls",
     "model_module_version": "1.5.0",
     "model_name": "HTMLModel",
     "state": {
      "_dom_classes": [],
      "_model_module": "@jupyter-widgets/controls",
      "_model_module_version": "1.5.0",
      "_model_name": "HTMLModel",
      "_view_count": null,
      "_view_module": "@jupyter-widgets/controls",
      "_view_module_version": "1.5.0",
      "_view_name": "HTMLView",
      "description": "",
      "description_tooltip": null,
      "layout": "IPY_MODEL_f84949528ef442fe9ade0a7601cf437c",
      "placeholder": "​",
      "style": "IPY_MODEL_9e8cca3f34184b64ad618d6e2d8d1bd0",
      "value": "Map:  73%"
     }
    },
    "582ed5469ad549a18a211b18d1a9357a": {
     "model_module": "@jupyter-widgets/base",
     "model_module_version": "1.2.0",
     "model_name": "LayoutModel",
     "state": {
      "_model_module": "@jupyter-widgets/base",
      "_model_module_version": "1.2.0",
      "_model_name": "LayoutModel",
      "_view_count": null,
      "_view_module": "@jupyter-widgets/base",
      "_view_module_version": "1.2.0",
      "_view_name": "LayoutView",
      "align_content": null,
      "align_items": null,
      "align_self": null,
      "border": null,
      "bottom": null,
      "display": null,
      "flex": null,
      "flex_flow": null,
      "grid_area": null,
      "grid_auto_columns": null,
      "grid_auto_flow": null,
      "grid_auto_rows": null,
      "grid_column": null,
      "grid_gap": null,
      "grid_row": null,
      "grid_template_areas": null,
      "grid_template_columns": null,
      "grid_template_rows": null,
      "height": null,
      "justify_content": null,
      "justify_items": null,
      "left": null,
      "margin": null,
      "max_height": null,
      "max_width": null,
      "min_height": null,
      "min_width": null,
      "object_fit": null,
      "object_position": null,
      "order": null,
      "overflow": null,
      "overflow_x": null,
      "overflow_y": null,
      "padding": null,
      "right": null,
      "top": null,
      "visibility": "hidden",
      "width": null
     }
    },
    "6b39bff3912e4b818601ef471bff792e": {
     "model_module": "@jupyter-widgets/controls",
     "model_module_version": "1.5.0",
     "model_name": "HBoxModel",
     "state": {
      "_dom_classes": [],
      "_model_module": "@jupyter-widgets/controls",
      "_model_module_version": "1.5.0",
      "_model_name": "HBoxModel",
      "_view_count": null,
      "_view_module": "@jupyter-widgets/controls",
      "_view_module_version": "1.5.0",
      "_view_name": "HBoxView",
      "box_style": "",
      "children": [
       "IPY_MODEL_5686f61356ed4a64913bad84c763732e",
       "IPY_MODEL_e2b900b898884b4e9454e17f2ba6e171",
       "IPY_MODEL_e62a783aad6d48f497027a12c0ec1163"
      ],
      "layout": "IPY_MODEL_582ed5469ad549a18a211b18d1a9357a"
     }
    },
    "6b59bcb3d6904b319076919152b4b0d5": {
     "model_module": "@jupyter-widgets/controls",
     "model_module_version": "1.5.0",
     "model_name": "HTMLModel",
     "state": {
      "_dom_classes": [],
      "_model_module": "@jupyter-widgets/controls",
      "_model_module_version": "1.5.0",
      "_model_name": "HTMLModel",
      "_view_count": null,
      "_view_module": "@jupyter-widgets/controls",
      "_view_module_version": "1.5.0",
      "_view_name": "HTMLView",
      "description": "",
      "description_tooltip": null,
      "layout": "IPY_MODEL_ea8e102be5ad4c1eb833be533c3632b1",
      "placeholder": "​",
      "style": "IPY_MODEL_ff0e4db851cb445db190e57c2ffb9957",
      "value": " 5749/5749 [00:01&lt;00:00, 6225.18 examples/s]"
     }
    },
    "6e8e2b4f89bc4f2bb6e78d3a4f4b088b": {
     "model_module": "@jupyter-widgets/controls",
     "model_module_version": "1.5.0",
     "model_name": "HBoxModel",
     "state": {
      "_dom_classes": [],
      "_model_module": "@jupyter-widgets/controls",
      "_model_module_version": "1.5.0",
      "_model_name": "HBoxModel",
      "_view_count": null,
      "_view_module": "@jupyter-widgets/controls",
      "_view_module_version": "1.5.0",
      "_view_name": "HBoxView",
      "box_style": "",
      "children": [
       "IPY_MODEL_fe230a010b534e578de2b6662dd0d214",
       "IPY_MODEL_2c1267fcb30e454698a54a39d4db222e",
       "IPY_MODEL_a4fdd0ad043a429c828dd46672b323e2"
      ],
      "layout": "IPY_MODEL_883c136a39854bfbafaee36d032c6d0b"
     }
    },
    "76398cddc24f43618ff32b2c2d325eee": {
     "model_module": "@jupyter-widgets/controls",
     "model_module_version": "1.5.0",
     "model_name": "HTMLModel",
     "state": {
      "_dom_classes": [],
      "_model_module": "@jupyter-widgets/controls",
      "_model_module_version": "1.5.0",
      "_model_name": "HTMLModel",
      "_view_count": null,
      "_view_module": "@jupyter-widgets/controls",
      "_view_module_version": "1.5.0",
      "_view_name": "HTMLView",
      "description": "",
      "description_tooltip": null,
      "layout": "IPY_MODEL_8c33e8e120394b76b5d65b265ef47b68",
      "placeholder": "​",
      "style": "IPY_MODEL_ae6186a2effc45cb8257f9a41f3582e7",
      "value": " 1000/1500 [00:00&lt;00:00, 5586.86 examples/s]"
     }
    },
    "7736b4a548044fab914352eb70c1b774": {
     "model_module": "@jupyter-widgets/base",
     "model_module_version": "1.2.0",
     "model_name": "LayoutModel",
     "state": {
      "_model_module": "@jupyter-widgets/base",
      "_model_module_version": "1.2.0",
      "_model_name": "LayoutModel",
      "_view_count": null,
      "_view_module": "@jupyter-widgets/base",
      "_view_module_version": "1.2.0",
      "_view_name": "LayoutView",
      "align_content": null,
      "align_items": null,
      "align_self": null,
      "border": null,
      "bottom": null,
      "display": null,
      "flex": null,
      "flex_flow": null,
      "grid_area": null,
      "grid_auto_columns": null,
      "grid_auto_flow": null,
      "grid_auto_rows": null,
      "grid_column": null,
      "grid_gap": null,
      "grid_row": null,
      "grid_template_areas": null,
      "grid_template_columns": null,
      "grid_template_rows": null,
      "height": null,
      "justify_content": null,
      "justify_items": null,
      "left": null,
      "margin": null,
      "max_height": null,
      "max_width": null,
      "min_height": null,
      "min_width": null,
      "object_fit": null,
      "object_position": null,
      "order": null,
      "overflow": null,
      "overflow_x": null,
      "overflow_y": null,
      "padding": null,
      "right": null,
      "top": null,
      "visibility": null,
      "width": null
     }
    },
    "831e7bb4512e48b4b0abbdc77a6c395d": {
     "model_module": "@jupyter-widgets/controls",
     "model_module_version": "1.5.0",
     "model_name": "DescriptionStyleModel",
     "state": {
      "_model_module": "@jupyter-widgets/controls",
      "_model_module_version": "1.5.0",
      "_model_name": "DescriptionStyleModel",
      "_view_count": null,
      "_view_module": "@jupyter-widgets/base",
      "_view_module_version": "1.2.0",
      "_view_name": "StyleView",
      "description_width": ""
     }
    },
    "883c136a39854bfbafaee36d032c6d0b": {
     "model_module": "@jupyter-widgets/base",
     "model_module_version": "1.2.0",
     "model_name": "LayoutModel",
     "state": {
      "_model_module": "@jupyter-widgets/base",
      "_model_module_version": "1.2.0",
      "_model_name": "LayoutModel",
      "_view_count": null,
      "_view_module": "@jupyter-widgets/base",
      "_view_module_version": "1.2.0",
      "_view_name": "LayoutView",
      "align_content": null,
      "align_items": null,
      "align_self": null,
      "border": null,
      "bottom": null,
      "display": null,
      "flex": null,
      "flex_flow": null,
      "grid_area": null,
      "grid_auto_columns": null,
      "grid_auto_flow": null,
      "grid_auto_rows": null,
      "grid_column": null,
      "grid_gap": null,
      "grid_row": null,
      "grid_template_areas": null,
      "grid_template_columns": null,
      "grid_template_rows": null,
      "height": null,
      "justify_content": null,
      "justify_items": null,
      "left": null,
      "margin": null,
      "max_height": null,
      "max_width": null,
      "min_height": null,
      "min_width": null,
      "object_fit": null,
      "object_position": null,
      "order": null,
      "overflow": null,
      "overflow_x": null,
      "overflow_y": null,
      "padding": null,
      "right": null,
      "top": null,
      "visibility": null,
      "width": null
     }
    },
    "8b055d59e3a34dd58eaf5437de9b43cb": {
     "model_module": "@jupyter-widgets/base",
     "model_module_version": "1.2.0",
     "model_name": "LayoutModel",
     "state": {
      "_model_module": "@jupyter-widgets/base",
      "_model_module_version": "1.2.0",
      "_model_name": "LayoutModel",
      "_view_count": null,
      "_view_module": "@jupyter-widgets/base",
      "_view_module_version": "1.2.0",
      "_view_name": "LayoutView",
      "align_content": null,
      "align_items": null,
      "align_self": null,
      "border": null,
      "bottom": null,
      "display": null,
      "flex": null,
      "flex_flow": null,
      "grid_area": null,
      "grid_auto_columns": null,
      "grid_auto_flow": null,
      "grid_auto_rows": null,
      "grid_column": null,
      "grid_gap": null,
      "grid_row": null,
      "grid_template_areas": null,
      "grid_template_columns": null,
      "grid_template_rows": null,
      "height": null,
      "justify_content": null,
      "justify_items": null,
      "left": null,
      "margin": null,
      "max_height": null,
      "max_width": null,
      "min_height": null,
      "min_width": null,
      "object_fit": null,
      "object_position": null,
      "order": null,
      "overflow": null,
      "overflow_x": null,
      "overflow_y": null,
      "padding": null,
      "right": null,
      "top": null,
      "visibility": null,
      "width": null
     }
    },
    "8c33e8e120394b76b5d65b265ef47b68": {
     "model_module": "@jupyter-widgets/base",
     "model_module_version": "1.2.0",
     "model_name": "LayoutModel",
     "state": {
      "_model_module": "@jupyter-widgets/base",
      "_model_module_version": "1.2.0",
      "_model_name": "LayoutModel",
      "_view_count": null,
      "_view_module": "@jupyter-widgets/base",
      "_view_module_version": "1.2.0",
      "_view_name": "LayoutView",
      "align_content": null,
      "align_items": null,
      "align_self": null,
      "border": null,
      "bottom": null,
      "display": null,
      "flex": null,
      "flex_flow": null,
      "grid_area": null,
      "grid_auto_columns": null,
      "grid_auto_flow": null,
      "grid_auto_rows": null,
      "grid_column": null,
      "grid_gap": null,
      "grid_row": null,
      "grid_template_areas": null,
      "grid_template_columns": null,
      "grid_template_rows": null,
      "height": null,
      "justify_content": null,
      "justify_items": null,
      "left": null,
      "margin": null,
      "max_height": null,
      "max_width": null,
      "min_height": null,
      "min_width": null,
      "object_fit": null,
      "object_position": null,
      "order": null,
      "overflow": null,
      "overflow_x": null,
      "overflow_y": null,
      "padding": null,
      "right": null,
      "top": null,
      "visibility": null,
      "width": null
     }
    },
    "90dda06f5f264d0fbf60fb5b1309f93c": {
     "model_module": "@jupyter-widgets/controls",
     "model_module_version": "1.5.0",
     "model_name": "HBoxModel",
     "state": {
      "_dom_classes": [],
      "_model_module": "@jupyter-widgets/controls",
      "_model_module_version": "1.5.0",
      "_model_name": "HBoxModel",
      "_view_count": null,
      "_view_module": "@jupyter-widgets/controls",
      "_view_module_version": "1.5.0",
      "_view_name": "HBoxView",
      "box_style": "",
      "children": [
       "IPY_MODEL_057511dabee74d5c9d6584f20ae061a8",
       "IPY_MODEL_c1010561cdec4234bb03023b501b83b2",
       "IPY_MODEL_76398cddc24f43618ff32b2c2d325eee"
      ],
      "layout": "IPY_MODEL_1e4aac8fa6f64eaaa8cdd0a4dcb3feb2"
     }
    },
    "9414a4df008d4c5780336aabe2d1f776": {
     "model_module": "@jupyter-widgets/controls",
     "model_module_version": "1.5.0",
     "model_name": "DescriptionStyleModel",
     "state": {
      "_model_module": "@jupyter-widgets/controls",
      "_model_module_version": "1.5.0",
      "_model_name": "DescriptionStyleModel",
      "_view_count": null,
      "_view_module": "@jupyter-widgets/base",
      "_view_module_version": "1.2.0",
      "_view_name": "StyleView",
      "description_width": ""
     }
    },
    "9e8cca3f34184b64ad618d6e2d8d1bd0": {
     "model_module": "@jupyter-widgets/controls",
     "model_module_version": "1.5.0",
     "model_name": "DescriptionStyleModel",
     "state": {
      "_model_module": "@jupyter-widgets/controls",
      "_model_module_version": "1.5.0",
      "_model_name": "DescriptionStyleModel",
      "_view_count": null,
      "_view_module": "@jupyter-widgets/base",
      "_view_module_version": "1.2.0",
      "_view_name": "StyleView",
      "description_width": ""
     }
    },
    "a4fdd0ad043a429c828dd46672b323e2": {
     "model_module": "@jupyter-widgets/controls",
     "model_module_version": "1.5.0",
     "model_name": "HTMLModel",
     "state": {
      "_dom_classes": [],
      "_model_module": "@jupyter-widgets/controls",
      "_model_module_version": "1.5.0",
      "_model_name": "HTMLModel",
      "_view_count": null,
      "_view_module": "@jupyter-widgets/controls",
      "_view_module_version": "1.5.0",
      "_view_name": "HTMLView",
      "description": "",
      "description_tooltip": null,
      "layout": "IPY_MODEL_7736b4a548044fab914352eb70c1b774",
      "placeholder": "​",
      "style": "IPY_MODEL_29fa7925280440f38681549118bcb8d9",
      "value": " 3/3 [00:00&lt;00:00, 128.63it/s]"
     }
    },
    "a6fe475f115b4504ba181fed90c11b94": {
     "model_module": "@jupyter-widgets/base",
     "model_module_version": "1.2.0",
     "model_name": "LayoutModel",
     "state": {
      "_model_module": "@jupyter-widgets/base",
      "_model_module_version": "1.2.0",
      "_model_name": "LayoutModel",
      "_view_count": null,
      "_view_module": "@jupyter-widgets/base",
      "_view_module_version": "1.2.0",
      "_view_name": "LayoutView",
      "align_content": null,
      "align_items": null,
      "align_self": null,
      "border": null,
      "bottom": null,
      "display": null,
      "flex": null,
      "flex_flow": null,
      "grid_area": null,
      "grid_auto_columns": null,
      "grid_auto_flow": null,
      "grid_auto_rows": null,
      "grid_column": null,
      "grid_gap": null,
      "grid_row": null,
      "grid_template_areas": null,
      "grid_template_columns": null,
      "grid_template_rows": null,
      "height": null,
      "justify_content": null,
      "justify_items": null,
      "left": null,
      "margin": null,
      "max_height": null,
      "max_width": null,
      "min_height": null,
      "min_width": null,
      "object_fit": null,
      "object_position": null,
      "order": null,
      "overflow": null,
      "overflow_x": null,
      "overflow_y": null,
      "padding": null,
      "right": null,
      "top": null,
      "visibility": null,
      "width": null
     }
    },
    "ae6186a2effc45cb8257f9a41f3582e7": {
     "model_module": "@jupyter-widgets/controls",
     "model_module_version": "1.5.0",
     "model_name": "DescriptionStyleModel",
     "state": {
      "_model_module": "@jupyter-widgets/controls",
      "_model_module_version": "1.5.0",
      "_model_name": "DescriptionStyleModel",
      "_view_count": null,
      "_view_module": "@jupyter-widgets/base",
      "_view_module_version": "1.2.0",
      "_view_name": "StyleView",
      "description_width": ""
     }
    },
    "b579941154704f5ba085c6ccc65b3918": {
     "model_module": "@jupyter-widgets/base",
     "model_module_version": "1.2.0",
     "model_name": "LayoutModel",
     "state": {
      "_model_module": "@jupyter-widgets/base",
      "_model_module_version": "1.2.0",
      "_model_name": "LayoutModel",
      "_view_count": null,
      "_view_module": "@jupyter-widgets/base",
      "_view_module_version": "1.2.0",
      "_view_name": "LayoutView",
      "align_content": null,
      "align_items": null,
      "align_self": null,
      "border": null,
      "bottom": null,
      "display": null,
      "flex": null,
      "flex_flow": null,
      "grid_area": null,
      "grid_auto_columns": null,
      "grid_auto_flow": null,
      "grid_auto_rows": null,
      "grid_column": null,
      "grid_gap": null,
      "grid_row": null,
      "grid_template_areas": null,
      "grid_template_columns": null,
      "grid_template_rows": null,
      "height": null,
      "justify_content": null,
      "justify_items": null,
      "left": null,
      "margin": null,
      "max_height": null,
      "max_width": null,
      "min_height": null,
      "min_width": null,
      "object_fit": null,
      "object_position": null,
      "order": null,
      "overflow": null,
      "overflow_x": null,
      "overflow_y": null,
      "padding": null,
      "right": null,
      "top": null,
      "visibility": "hidden",
      "width": null
     }
    },
    "c1010561cdec4234bb03023b501b83b2": {
     "model_module": "@jupyter-widgets/controls",
     "model_module_version": "1.5.0",
     "model_name": "FloatProgressModel",
     "state": {
      "_dom_classes": [],
      "_model_module": "@jupyter-widgets/controls",
      "_model_module_version": "1.5.0",
      "_model_name": "FloatProgressModel",
      "_view_count": null,
      "_view_module": "@jupyter-widgets/controls",
      "_view_module_version": "1.5.0",
      "_view_name": "ProgressView",
      "bar_style": "",
      "description": "",
      "description_tooltip": null,
      "layout": "IPY_MODEL_0baedf7adf1d4eb59bbcd8b23f43bc51",
      "max": 1500,
      "min": 0,
      "orientation": "horizontal",
      "style": "IPY_MODEL_d38478aa7fbc4370af8d074d9a7842de",
      "value": 1500
     }
    },
    "c91e453c6b6f488e8754dbcf8891d273": {
     "model_module": "@jupyter-widgets/controls",
     "model_module_version": "1.5.0",
     "model_name": "HTMLModel",
     "state": {
      "_dom_classes": [],
      "_model_module": "@jupyter-widgets/controls",
      "_model_module_version": "1.5.0",
      "_model_name": "HTMLModel",
      "_view_count": null,
      "_view_module": "@jupyter-widgets/controls",
      "_view_module_version": "1.5.0",
      "_view_name": "HTMLView",
      "description": "",
      "description_tooltip": null,
      "layout": "IPY_MODEL_107ebf20c12f46c6a7bf7455aed44fd4",
      "placeholder": "​",
      "style": "IPY_MODEL_831e7bb4512e48b4b0abbdc77a6c395d",
      "value": "Map: 100%"
     }
    },
    "c97acd9c2ea64de1845b557686dc065a": {
     "model_module": "@jupyter-widgets/controls",
     "model_module_version": "1.5.0",
     "model_name": "DescriptionStyleModel",
     "state": {
      "_model_module": "@jupyter-widgets/controls",
      "_model_module_version": "1.5.0",
      "_model_name": "DescriptionStyleModel",
      "_view_count": null,
      "_view_module": "@jupyter-widgets/base",
      "_view_module_version": "1.2.0",
      "_view_name": "StyleView",
      "description_width": ""
     }
    },
    "cfc271aacdac4c49b26717948387485a": {
     "model_module": "@jupyter-widgets/controls",
     "model_module_version": "1.5.0",
     "model_name": "ProgressStyleModel",
     "state": {
      "_model_module": "@jupyter-widgets/controls",
      "_model_module_version": "1.5.0",
      "_model_name": "ProgressStyleModel",
      "_view_count": null,
      "_view_module": "@jupyter-widgets/base",
      "_view_module_version": "1.2.0",
      "_view_name": "StyleView",
      "bar_color": null,
      "description_width": ""
     }
    },
    "d38478aa7fbc4370af8d074d9a7842de": {
     "model_module": "@jupyter-widgets/controls",
     "model_module_version": "1.5.0",
     "model_name": "ProgressStyleModel",
     "state": {
      "_model_module": "@jupyter-widgets/controls",
      "_model_module_version": "1.5.0",
      "_model_name": "ProgressStyleModel",
      "_view_count": null,
      "_view_module": "@jupyter-widgets/base",
      "_view_module_version": "1.2.0",
      "_view_name": "StyleView",
      "bar_color": null,
      "description_width": ""
     }
    },
    "e2b900b898884b4e9454e17f2ba6e171": {
     "model_module": "@jupyter-widgets/controls",
     "model_module_version": "1.5.0",
     "model_name": "FloatProgressModel",
     "state": {
      "_dom_classes": [],
      "_model_module": "@jupyter-widgets/controls",
      "_model_module_version": "1.5.0",
      "_model_name": "FloatProgressModel",
      "_view_count": null,
      "_view_module": "@jupyter-widgets/controls",
      "_view_module_version": "1.5.0",
      "_view_name": "ProgressView",
      "bar_style": "",
      "description": "",
      "description_tooltip": null,
      "layout": "IPY_MODEL_26617b09c9fe431b8f21016b18d46931",
      "max": 1379,
      "min": 0,
      "orientation": "horizontal",
      "style": "IPY_MODEL_e9dbe2e547ed43a5a27329a4c16f67e4",
      "value": 1379
     }
    },
    "e62a783aad6d48f497027a12c0ec1163": {
     "model_module": "@jupyter-widgets/controls",
     "model_module_version": "1.5.0",
     "model_name": "HTMLModel",
     "state": {
      "_dom_classes": [],
      "_model_module": "@jupyter-widgets/controls",
      "_model_module_version": "1.5.0",
      "_model_name": "HTMLModel",
      "_view_count": null,
      "_view_module": "@jupyter-widgets/controls",
      "_view_module_version": "1.5.0",
      "_view_name": "HTMLView",
      "description": "",
      "description_tooltip": null,
      "layout": "IPY_MODEL_a6fe475f115b4504ba181fed90c11b94",
      "placeholder": "​",
      "style": "IPY_MODEL_c97acd9c2ea64de1845b557686dc065a",
      "value": " 1000/1379 [00:00&lt;00:00, 6055.89 examples/s]"
     }
    },
    "e9dbe2e547ed43a5a27329a4c16f67e4": {
     "model_module": "@jupyter-widgets/controls",
     "model_module_version": "1.5.0",
     "model_name": "ProgressStyleModel",
     "state": {
      "_model_module": "@jupyter-widgets/controls",
      "_model_module_version": "1.5.0",
      "_model_name": "ProgressStyleModel",
      "_view_count": null,
      "_view_module": "@jupyter-widgets/base",
      "_view_module_version": "1.2.0",
      "_view_name": "StyleView",
      "bar_color": null,
      "description_width": ""
     }
    },
    "ea8e102be5ad4c1eb833be533c3632b1": {
     "model_module": "@jupyter-widgets/base",
     "model_module_version": "1.2.0",
     "model_name": "LayoutModel",
     "state": {
      "_model_module": "@jupyter-widgets/base",
      "_model_module_version": "1.2.0",
      "_model_name": "LayoutModel",
      "_view_count": null,
      "_view_module": "@jupyter-widgets/base",
      "_view_module_version": "1.2.0",
      "_view_name": "LayoutView",
      "align_content": null,
      "align_items": null,
      "align_self": null,
      "border": null,
      "bottom": null,
      "display": null,
      "flex": null,
      "flex_flow": null,
      "grid_area": null,
      "grid_auto_columns": null,
      "grid_auto_flow": null,
      "grid_auto_rows": null,
      "grid_column": null,
      "grid_gap": null,
      "grid_row": null,
      "grid_template_areas": null,
      "grid_template_columns": null,
      "grid_template_rows": null,
      "height": null,
      "justify_content": null,
      "justify_items": null,
      "left": null,
      "margin": null,
      "max_height": null,
      "max_width": null,
      "min_height": null,
      "min_width": null,
      "object_fit": null,
      "object_position": null,
      "order": null,
      "overflow": null,
      "overflow_x": null,
      "overflow_y": null,
      "padding": null,
      "right": null,
      "top": null,
      "visibility": null,
      "width": null
     }
    },
    "efeb6a9b97dc4526a036478370b2001a": {
     "model_module": "@jupyter-widgets/base",
     "model_module_version": "1.2.0",
     "model_name": "LayoutModel",
     "state": {
      "_model_module": "@jupyter-widgets/base",
      "_model_module_version": "1.2.0",
      "_model_name": "LayoutModel",
      "_view_count": null,
      "_view_module": "@jupyter-widgets/base",
      "_view_module_version": "1.2.0",
      "_view_name": "LayoutView",
      "align_content": null,
      "align_items": null,
      "align_self": null,
      "border": null,
      "bottom": null,
      "display": null,
      "flex": null,
      "flex_flow": null,
      "grid_area": null,
      "grid_auto_columns": null,
      "grid_auto_flow": null,
      "grid_auto_rows": null,
      "grid_column": null,
      "grid_gap": null,
      "grid_row": null,
      "grid_template_areas": null,
      "grid_template_columns": null,
      "grid_template_rows": null,
      "height": null,
      "justify_content": null,
      "justify_items": null,
      "left": null,
      "margin": null,
      "max_height": null,
      "max_width": null,
      "min_height": null,
      "min_width": null,
      "object_fit": null,
      "object_position": null,
      "order": null,
      "overflow": null,
      "overflow_x": null,
      "overflow_y": null,
      "padding": null,
      "right": null,
      "top": null,
      "visibility": null,
      "width": null
     }
    },
    "f74908d8aba74c92abd314e3b6ec362c": {
     "model_module": "@jupyter-widgets/controls",
     "model_module_version": "1.5.0",
     "model_name": "FloatProgressModel",
     "state": {
      "_dom_classes": [],
      "_model_module": "@jupyter-widgets/controls",
      "_model_module_version": "1.5.0",
      "_model_name": "FloatProgressModel",
      "_view_count": null,
      "_view_module": "@jupyter-widgets/controls",
      "_view_module_version": "1.5.0",
      "_view_name": "ProgressView",
      "bar_style": "",
      "description": "",
      "description_tooltip": null,
      "layout": "IPY_MODEL_38d52c3d020d4c228b4084c8eee9d326",
      "max": 5749,
      "min": 0,
      "orientation": "horizontal",
      "style": "IPY_MODEL_cfc271aacdac4c49b26717948387485a",
      "value": 5749
     }
    },
    "f84949528ef442fe9ade0a7601cf437c": {
     "model_module": "@jupyter-widgets/base",
     "model_module_version": "1.2.0",
     "model_name": "LayoutModel",
     "state": {
      "_model_module": "@jupyter-widgets/base",
      "_model_module_version": "1.2.0",
      "_model_name": "LayoutModel",
      "_view_count": null,
      "_view_module": "@jupyter-widgets/base",
      "_view_module_version": "1.2.0",
      "_view_name": "LayoutView",
      "align_content": null,
      "align_items": null,
      "align_self": null,
      "border": null,
      "bottom": null,
      "display": null,
      "flex": null,
      "flex_flow": null,
      "grid_area": null,
      "grid_auto_columns": null,
      "grid_auto_flow": null,
      "grid_auto_rows": null,
      "grid_column": null,
      "grid_gap": null,
      "grid_row": null,
      "grid_template_areas": null,
      "grid_template_columns": null,
      "grid_template_rows": null,
      "height": null,
      "justify_content": null,
      "justify_items": null,
      "left": null,
      "margin": null,
      "max_height": null,
      "max_width": null,
      "min_height": null,
      "min_width": null,
      "object_fit": null,
      "object_position": null,
      "order": null,
      "overflow": null,
      "overflow_x": null,
      "overflow_y": null,
      "padding": null,
      "right": null,
      "top": null,
      "visibility": null,
      "width": null
     }
    },
    "f95bef18cfba4c5ab2eba121ab33ae66": {
     "model_module": "@jupyter-widgets/controls",
     "model_module_version": "1.5.0",
     "model_name": "ProgressStyleModel",
     "state": {
      "_model_module": "@jupyter-widgets/controls",
      "_model_module_version": "1.5.0",
      "_model_name": "ProgressStyleModel",
      "_view_count": null,
      "_view_module": "@jupyter-widgets/base",
      "_view_module_version": "1.2.0",
      "_view_name": "StyleView",
      "bar_color": null,
      "description_width": ""
     }
    },
    "fe230a010b534e578de2b6662dd0d214": {
     "model_module": "@jupyter-widgets/controls",
     "model_module_version": "1.5.0",
     "model_name": "HTMLModel",
     "state": {
      "_dom_classes": [],
      "_model_module": "@jupyter-widgets/controls",
      "_model_module_version": "1.5.0",
      "_model_name": "HTMLModel",
      "_view_count": null,
      "_view_module": "@jupyter-widgets/controls",
      "_view_module_version": "1.5.0",
      "_view_name": "HTMLView",
      "description": "",
      "description_tooltip": null,
      "layout": "IPY_MODEL_efeb6a9b97dc4526a036478370b2001a",
      "placeholder": "​",
      "style": "IPY_MODEL_9414a4df008d4c5780336aabe2d1f776",
      "value": "100%"
     }
    },
    "ff0e4db851cb445db190e57c2ffb9957": {
     "model_module": "@jupyter-widgets/controls",
     "model_module_version": "1.5.0",
     "model_name": "DescriptionStyleModel",
     "state": {
      "_model_module": "@jupyter-widgets/controls",
      "_model_module_version": "1.5.0",
      "_model_name": "DescriptionStyleModel",
      "_view_count": null,
      "_view_module": "@jupyter-widgets/base",
      "_view_module_version": "1.2.0",
      "_view_name": "StyleView",
      "description_width": ""
     }
    }
   }
  }
 },
 "nbformat": 4,
 "nbformat_minor": 4
}
