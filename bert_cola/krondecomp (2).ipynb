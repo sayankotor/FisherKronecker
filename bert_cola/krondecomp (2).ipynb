{
 "cells": [
  {
   "cell_type": "code",
   "execution_count": 1,
   "id": "1eaeddd1-d6e8-4a93-94db-ab0c3b012fcd",
   "metadata": {},
   "outputs": [],
   "source": [
    "import numpy as np\n",
    "from scipy.sparse.linalg import svds, LinearOperator"
   ]
  },
  {
   "cell_type": "code",
   "execution_count": 2,
   "id": "d937da9d-ea97-478d-8156-18eec1b02ef0",
   "metadata": {},
   "outputs": [],
   "source": [
    "import torch"
   ]
  },
  {
   "cell_type": "markdown",
   "id": "9584f704-80b8-4d37-938c-09a4b0d6cd73",
   "metadata": {},
   "source": [
    "## Cola"
   ]
  },
  {
   "cell_type": "code",
   "execution_count": 2,
   "id": "370f00f8-0e0e-4423-b3ce-705fc5227312",
   "metadata": {},
   "outputs": [],
   "source": [
    "import pickle\n",
    "with open(\"grads5_11.pickle\", \"rb\") as fp:   #Pickling\n",
    "    dict_of_grads = pickle.load(fp)"
   ]
  },
  {
   "cell_type": "code",
   "execution_count": 3,
   "id": "6c5af017-70d0-4c93-b990-37fec8113f09",
   "metadata": {},
   "outputs": [
    {
     "data": {
      "text/plain": [
       "dict_keys(['bert.encoder.layer.8.intermediate.dense', 'bert.encoder.layer.8.output.dense', 'bert.encoder.layer.9.intermediate.dense', 'bert.encoder.layer.9.output.dense', 'bert.encoder.layer.10.intermediate.dense', 'bert.encoder.layer.10.output.dense', 'bert.encoder.layer.11.intermediate.dense', 'bert.encoder.layer.11.output.dense', 'bert.encoder.layer.5.output.dense', 'bert.encoder.layer.6.output.dense', 'bert.encoder.layer.5.intermediate.dense', 'bert.encoder.layer.6.intermediate.dense', 'bert.encoder.layer.7.intermediate.dense', 'bert.encoder.layer.7.output.dense'])"
      ]
     },
     "execution_count": 3,
     "metadata": {},
     "output_type": "execute_result"
    }
   ],
   "source": [
    "dict_of_grads.keys()"
   ]
  },
  {
   "cell_type": "code",
   "execution_count": 4,
   "id": "d109923a-6185-4759-a112-b58822c2c78d",
   "metadata": {},
   "outputs": [],
   "source": [
    "#new_dict_of_grads = {}"
   ]
  },
  {
   "cell_type": "code",
   "execution_count": 17,
   "id": "b3510abb-b7a9-4166-b6f6-a3856e1431e7",
   "metadata": {},
   "outputs": [],
   "source": [
    "list_of_desired_grad = ['bert.encoder.layer.5.intermediate.dense', 'bert.encoder.layer.6.intermediate.dense','bert.encoder.layer.7.intermediate.dense','bert.encoder.layer.6.output.dense']"
   ]
  },
  {
   "cell_type": "code",
   "execution_count": 14,
   "id": "e6541067-cec0-413f-b1ad-112019b65919",
   "metadata": {},
   "outputs": [
    {
     "data": {
      "text/plain": [
       "67"
      ]
     },
     "execution_count": 14,
     "metadata": {},
     "output_type": "execute_result"
    }
   ],
   "source": [
    "len(new_dict_of_grads['bert.encoder.layer.5.output.dense'])"
   ]
  },
  {
   "cell_type": "code",
   "execution_count": 20,
   "id": "4c69daa9-53a4-409b-ba91-a59221f84a88",
   "metadata": {},
   "outputs": [],
   "source": [
    "for k, v in dict_of_grads.items():\n",
    "    if k in ['bert.encoder.layer.7.output.dense']:\n",
    "        new_dict_of_grads[k] = v "
   ]
  },
  {
   "cell_type": "code",
   "execution_count": null,
   "id": "046fb327-5d62-4ed3-9116-beaf29637b56",
   "metadata": {},
   "outputs": [],
   "source": [
    "import os\n",
    "with open(os.path.join('grads5_11.pickle'), 'wb') as f:\n",
    "        pickle.dump(new_dict_of_grads, f)"
   ]
  },
  {
   "cell_type": "code",
   "execution_count": 1,
   "id": "9b030bd1-e3bf-4997-9ba6-1dc5dd1fea30",
   "metadata": {},
   "outputs": [
    {
     "ename": "NameError",
     "evalue": "name 'new_dict_of_grads' is not defined",
     "output_type": "error",
     "traceback": [
      "\u001b[0;31m---------------------------------------------------------------------------\u001b[0m",
      "\u001b[0;31mNameError\u001b[0m                                 Traceback (most recent call last)",
      "Cell \u001b[0;32mIn[1], line 1\u001b[0m\n\u001b[0;32m----> 1\u001b[0m \u001b[43mnew_dict_of_grads\u001b[49m\u001b[38;5;241m.\u001b[39mkeys()\n",
      "\u001b[0;31mNameError\u001b[0m: name 'new_dict_of_grads' is not defined"
     ]
    }
   ],
   "source": [
    "new_dict_of_grads.keys()"
   ]
  },
  {
   "cell_type": "code",
   "execution_count": 11,
   "id": "b40edcfe-3983-4e2c-a279-7b9502c90a59",
   "metadata": {},
   "outputs": [
    {
     "ename": "EOFError",
     "evalue": "Ran out of input",
     "output_type": "error",
     "traceback": [
      "\u001b[0;31m---------------------------------------------------------------------------\u001b[0m",
      "\u001b[0;31mEOFError\u001b[0m                                  Traceback (most recent call last)",
      "Cell \u001b[0;32mIn[11], line 3\u001b[0m\n\u001b[1;32m      1\u001b[0m \u001b[38;5;28;01mimport\u001b[39;00m \u001b[38;5;21;01mpickle\u001b[39;00m\n\u001b[1;32m      2\u001b[0m \u001b[38;5;28;01mwith\u001b[39;00m \u001b[38;5;28mopen\u001b[39m(\u001b[38;5;124m\"\u001b[39m\u001b[38;5;124mtensor_grad8_11.pickle\u001b[39m\u001b[38;5;124m\"\u001b[39m, \u001b[38;5;124m\"\u001b[39m\u001b[38;5;124mrb\u001b[39m\u001b[38;5;124m\"\u001b[39m) \u001b[38;5;28;01mas\u001b[39;00m fp:   \u001b[38;5;66;03m#Pickling\u001b[39;00m\n\u001b[0;32m----> 3\u001b[0m     dict_of_grads \u001b[38;5;241m=\u001b[39m \u001b[43mpickle\u001b[49m\u001b[38;5;241;43m.\u001b[39;49m\u001b[43mload\u001b[49m\u001b[43m(\u001b[49m\u001b[43mfp\u001b[49m\u001b[43m)\u001b[49m\n\u001b[1;32m      5\u001b[0m list_of_grads \u001b[38;5;241m=\u001b[39m dict_of_grads[\u001b[38;5;124m'\u001b[39m\u001b[38;5;124mbert.encoder.layer.7.intermediate.dense\u001b[39m\u001b[38;5;124m'\u001b[39m]\n",
      "\u001b[0;31mEOFError\u001b[0m: Ran out of input"
     ]
    }
   ],
   "source": [
    "import pickle\n",
    "with open(\"tensor_grad8_11.pickle\", \"rb\") as fp:   #Pickling\n",
    "    dict_of_grads = pickle.load(fp)\n",
    "\n",
    "list_of_grads = dict_of_grads['bert.encoder.layer.7.intermediate.dense']"
   ]
  },
  {
   "cell_type": "code",
   "execution_count": 5,
   "id": "33446cfd-8718-4595-b7d9-b8ff5174f222",
   "metadata": {},
   "outputs": [
    {
     "name": "stdout",
     "output_type": "stream",
     "text": [
      "m, n 3072 768\n"
     ]
    }
   ],
   "source": [
    "m, n = list_of_grads[0].shape #cols rows in torch -> rows cols in numpy\n",
    "print (\"m, n\", m, n)\n",
    "list_of_grads1 = [grad.reshape(-1).numpy() for grad in list_of_grads]\n",
    "\n",
    "grad_vectors = np.stack([grad.reshape(n,m, order = 'F') for grad in list_of_grads1])"
   ]
  },
  {
   "cell_type": "code",
   "execution_count": 6,
   "id": "ce24ae25-0f01-46e8-8d98-6241f81e9c51",
   "metadata": {},
   "outputs": [
    {
     "data": {
      "text/plain": [
       "(768, 3072)"
      ]
     },
     "execution_count": 6,
     "metadata": {},
     "output_type": "execute_result"
    }
   ],
   "source": [
    "grad_vectors[0].shape"
   ]
  },
  {
   "cell_type": "code",
   "execution_count": 7,
   "id": "fbfbb30b-ae94-4132-bf91-28d867bce592",
   "metadata": {},
   "outputs": [],
   "source": [
    "def matvec(vec):\n",
    "    print ('matvec')\n",
    "    k, m, n = grad_vectors.shape\n",
    "    V = vec.reshape(m, m, order='F')\n",
    "    res = np.zeros(n*n) \n",
    "    for i in range(k):\n",
    "        res += (grad_vectors[i].T @ V @ grad_vectors[i]).T.ravel()\n",
    "    return res\n",
    "\n",
    "def r_matvec(vec):\n",
    "    print ('rmatvec')\n",
    "    k, m, n = grad_vectors.shape\n",
    "    V = vec.reshape(n, n, order='F')\n",
    "    res = np.zeros(m*m) \n",
    "    for i in range(k):\n",
    "        res += (grad_vectors[i] @ V @ grad_vectors[i].T).T.ravel()\n",
    "    return res"
   ]
  },
  {
   "cell_type": "code",
   "execution_count": null,
   "id": "d0cde646-2d1d-49c1-9957-cab3817a8e12",
   "metadata": {},
   "outputs": [
    {
     "name": "stdout",
     "output_type": "stream",
     "text": [
      "matvec\n",
      "[0. 0. 0. ... 0. 0. 0.]\n",
      "[0. 0. 0. ... 0. 0. 0.]\n",
      "Performing SVD...\n",
      "matvec\n",
      "[-0.00095379  0.00162867  0.00021598 ...  0.00463541  0.00087444\n",
      " -0.02302475]\n",
      "[-7.11780411e-06  1.21542403e-05  1.61181578e-06 ...  3.45925987e-05\n",
      "  6.52567964e-06 -1.71826500e-04]\n",
      "rmatvec\n",
      "matvec\n",
      "[-0.00186252  0.00081314 -0.00010622 ...  0.00214817  0.00043681\n",
      " -0.01127561]\n",
      "[-1.38993760e-05  6.06818438e-06 -7.92714915e-07 ...  1.60311360e-05\n",
      "  3.25975596e-06 -8.41463250e-05]\n",
      "rmatvec\n",
      "matvec\n",
      "[-3.65603833e-04 -1.04098500e-04 -4.88578659e-05 ...  4.35803640e-05\n",
      "  3.24285211e-05 -1.74777353e-04]\n",
      "[-2.72838682e-06 -7.76854478e-07 -3.64610940e-07 ...  3.25226597e-07\n",
      "  2.42003889e-07 -1.30430860e-06]\n",
      "rmatvec\n",
      "matvec\n",
      "[ 3.69676489e-04  7.91645882e-05  8.49818236e-05 ... -6.91346828e-05\n",
      "  4.61466388e-05 -5.71673731e-06]\n",
      "[ 2.75877977e-06  5.90780509e-07  6.34192713e-07 ... -5.15930469e-07\n",
      "  3.44377902e-07 -4.26622187e-08]\n",
      "rmatvec\n",
      "matvec\n",
      "[ 2.80559360e-04  8.07779314e-05  5.62485471e-05 ... -1.74079459e-04\n",
      " -2.71258238e-05  7.83158871e-04]\n",
      "[ 2.09372657e-06  6.02820384e-07  4.19765277e-07 ... -1.29910044e-06\n",
      " -2.02431521e-07  5.84446919e-06]\n",
      "rmatvec\n",
      "matvec\n",
      "[ 6.26425570e-05 -1.78960382e-04 -1.87651076e-05 ... -4.96028547e-04\n",
      " -2.77931545e-05  1.93161814e-03]\n",
      "[ 4.67481768e-07 -1.33552524e-06 -1.40038116e-07 ... -3.70170558e-06\n",
      " -2.07411601e-07  1.44150607e-05]\n",
      "rmatvec\n",
      "matvec\n",
      "[-2.72401291e-04  2.68369872e-05 -6.98556805e-06 ... -1.84766342e-04\n",
      " -4.24634111e-05  7.02548701e-04]\n",
      "[-2.03284546e-06  2.00276024e-07 -5.21311049e-08 ... -1.37885330e-06\n",
      " -3.16891127e-07  5.24290075e-06]\n",
      "rmatvec\n",
      "matvec\n",
      "[-2.98738471e-04  5.82651054e-05  1.78061757e-05 ...  6.58286045e-05\n",
      " -3.13187350e-05  1.20517383e-04]\n",
      "[-2.22939158e-06  4.34814220e-07  1.32881908e-07 ...  4.91258243e-07\n",
      " -2.33721903e-07  8.99383453e-07]\n",
      "rmatvec\n",
      "matvec\n",
      "[ 5.01689641e-05 -1.17418749e-04 -4.79751788e-06 ... -7.61555181e-05\n",
      " -2.36181620e-05  6.14859607e-04]\n",
      "[ 3.74395254e-07 -8.76259319e-07 -3.58023723e-08 ... -5.68324762e-07\n",
      " -1.76254940e-07  4.58850453e-06]\n",
      "rmatvec\n",
      "matvec\n",
      "[ 1.82063028e-05 -2.04469522e-05  1.27145964e-05 ... -2.12748681e-04\n",
      " -6.55661261e-05  1.18091584e-03]\n",
      "[ 1.35867931e-07 -1.52589195e-07  9.48850475e-08 ... -1.58767672e-06\n",
      " -4.89299449e-07  8.81280481e-06]\n",
      "rmatvec\n",
      "matvec\n",
      "[ 5.72116313e-05 -2.33361875e-05  5.25455416e-06 ...  8.40582510e-06\n",
      "  8.75704546e-06  6.23557807e-04]\n",
      "[ 4.26952472e-07 -1.74150653e-07  3.92130908e-08 ...  6.27300380e-08\n",
      "  6.53510855e-08  4.65341647e-06]\n",
      "rmatvec\n",
      "matvec\n",
      "[-3.89949821e-05  1.44937348e-05 -7.71863894e-06 ...  3.02877729e-05\n",
      " -3.25690335e-06  5.17441490e-04]\n",
      "[-2.91007329e-07  1.08162200e-07 -5.76017831e-08 ...  2.26028156e-07\n",
      " -2.43052488e-08  3.86150365e-06]\n",
      "rmatvec\n",
      "matvec\n",
      "[-6.59866235e-05  8.62508341e-05 -2.89617147e-06 ... -1.41381819e-04\n",
      " -3.17497855e-05 -1.50061367e-04]\n",
      "[-4.92437489e-07  6.43662941e-07 -2.16132199e-08 ... -1.05508820e-06\n",
      " -2.36938698e-07 -1.11986095e-06]\n",
      "rmatvec\n",
      "matvec\n",
      "[-2.54996930e-05  3.56315641e-05 -4.98860824e-06 ... -2.15390882e-04\n",
      " -6.05228844e-05  8.05185752e-05]\n",
      "[-1.90296217e-07  2.65907195e-07 -3.72284197e-08 ... -1.60739464e-06\n",
      " -4.51663316e-07  6.00884890e-07]\n",
      "rmatvec\n",
      "matvec\n",
      "[-3.96463095e-05  3.86711712e-06 -1.45227880e-05 ... -1.23712699e-04\n",
      " -1.42172717e-05 -2.71103897e-05]\n",
      "[-2.95867981e-07  2.88590830e-08 -1.08379015e-07 ... -9.23229095e-07\n",
      " -1.06099042e-07 -2.02316341e-07]\n",
      "rmatvec\n",
      "matvec\n",
      "[ 4.61934789e-05  5.61784423e-07 -1.94526257e-05 ... -9.81299499e-06\n",
      "  7.19658155e-06 -7.18149242e-05]\n",
      "[ 3.44727455e-07  4.19242106e-09 -1.45168849e-07 ... -7.32313059e-08\n",
      "  5.37058324e-08 -5.35932270e-07]\n",
      "rmatvec\n",
      "matvec\n",
      "[ 1.20998761e-04 -1.08405566e-04 -5.40168060e-06 ...  5.56872363e-05\n",
      " -6.05350296e-06  2.07891266e-04]\n",
      "[ 9.02975825e-07 -8.08996761e-07 -4.03110493e-08 ...  4.15576390e-07\n",
      " -4.51753952e-08  1.55142736e-06]\n",
      "rmatvec\n",
      "matvec\n",
      "[ 1.17204748e-04 -1.08963157e-04 -6.88663107e-07 ...  9.76795396e-05\n",
      "  2.50631423e-05 -1.05692717e-04]\n",
      "[ 8.74662296e-07 -8.13157888e-07 -5.13927692e-09 ...  7.28951788e-07\n",
      "  1.87038375e-07 -7.88751616e-07]\n",
      "rmatvec\n",
      "matvec\n",
      "[ 1.03077766e-04 -3.02051706e-05  1.56646646e-05 ... -1.28344287e-04\n",
      "  4.89214914e-06  1.80007712e-04]\n",
      "[ 7.69237057e-07 -2.25411721e-07  1.16900482e-07 ... -9.57793187e-07\n",
      "  3.65085757e-08  1.34334113e-06]\n",
      "rmatvec\n",
      "matvec\n",
      "[ 4.86995471e-06  4.01420209e-06  9.65341495e-07 ... -2.59724073e-04\n",
      "  2.55481466e-06  6.30489067e-04]\n",
      "[ 3.63429456e-08  2.99567320e-08  7.20404101e-09 ... -1.93823935e-06\n",
      "  1.90657810e-08  4.70514229e-06]\n",
      "rmatvec\n",
      "matvec\n",
      "[-9.60158925e-05  4.77794860e-05 -2.39951318e-05 ... -9.58849893e-05\n",
      " -1.82899171e-05  7.18649749e-04]\n",
      "[-7.16536511e-07  3.56563328e-07 -1.79068148e-07 ... -7.15559622e-07\n",
      " -1.36491919e-07  5.36305783e-06]\n",
      "rmatvec\n",
      "matvec\n",
      "[-3.95140560e-19 -4.37715481e-05  1.68400622e-05 ... -6.67617213e-07\n",
      "  3.59584366e-05 -1.74723541e-18]\n",
      "[-2.94881015e-21 -3.26653344e-07  1.25672106e-07 ... -4.98221801e-09\n",
      "  2.68346542e-07 -1.30390702e-20]\n",
      "matvec\n",
      "[ 1.78316721e-04 -1.20630045e-04  1.73157766e-05 ... -5.48157878e-04\n",
      " -3.29856086e-05  2.16052084e-03]\n",
      "[ 1.33072180e-06 -9.00224220e-07  1.29222213e-07 ... -4.09073043e-06\n",
      " -2.46161258e-07  1.61232898e-05]\n",
      "matvec\n",
      "[-0.0018809   0.00080532 -0.0001089  ...  0.00214667  0.00043805\n",
      " -0.01126498]\n",
      "[-1.40365656e-05  6.00981997e-06 -8.12652880e-07 ...  1.60199320e-05\n",
      "  3.26899310e-06 -8.40670146e-05]\n"
     ]
    }
   ],
   "source": [
    "linop_m = LinearOperator(\n",
    "    shape=(m**2, n**2),\n",
    "    matvec=matvec,\n",
    "    rmatvec=r_matvec\n",
    ")\n",
    "\n",
    "# Compute SVD\n",
    "print(\"Performing SVD...\", flush=True)\n",
    "u, s, vt = svds(linop_m, k = 3, return_singular_vectors=True)\n",
    "sidx = np.argsort(-s)\n",
    "s = s[sidx]\n",
    "u = u[:, sidx]\n",
    "v = vt[sidx, :].T"
   ]
  },
  {
   "cell_type": "code",
   "execution_count": 10,
   "id": "e01dfb12-5820-4ce7-b5cc-a179b037e2a1",
   "metadata": {},
   "outputs": [
    {
     "data": {
      "text/plain": [
       "array([0.04702242, 0.0142314 , 0.01274068])"
      ]
     },
     "execution_count": 10,
     "metadata": {},
     "output_type": "execute_result"
    }
   ],
   "source": [
    "s"
   ]
  },
  {
   "cell_type": "code",
   "execution_count": 14,
   "id": "9b1f5809-6fdb-470c-a64d-6b1169eaccd2",
   "metadata": {},
   "outputs": [],
   "source": [
    "x_ = u[:, 0] * s[0]\n",
    "y_ = v[:, 0]\n",
    "XF = x_.reshape(m, m, order='F')\n",
    "YF = y_.reshape(n, n, order='F')"
   ]
  },
  {
   "cell_type": "code",
   "execution_count": 15,
   "id": "93bbccb4-0f1f-49ef-a42b-755f1866a194",
   "metadata": {},
   "outputs": [
    {
     "data": {
      "text/plain": [
       "True"
      ]
     },
     "execution_count": 15,
     "metadata": {},
     "output_type": "execute_result"
    }
   ],
   "source": [
    "import numpy as np\n",
    "\n",
    "def is_pos_def(x):\n",
    "    return np.all(np.linalg.eigvals(x) > 0)\n",
    "\n",
    "is_pos_def(YF)"
   ]
  },
  {
   "cell_type": "code",
   "execution_count": 17,
   "id": "be6d06b6-6eb5-465b-9486-7e2adb3f96c1",
   "metadata": {},
   "outputs": [],
   "source": [
    "np.save(\"C1_7sgd_norm.npy\", XF)\n",
    "np.save(\"B1_7sgd_norm.npy\", YF)"
   ]
  },
  {
   "cell_type": "code",
   "execution_count": null,
   "id": "d6edf422-f01a-4e26-be44-bee3e1b53395",
   "metadata": {},
   "outputs": [],
   "source": []
  }
 ],
 "metadata": {
  "kernelspec": {
   "display_name": "tox_analysis",
   "language": "python",
   "name": "python3"
  },
  "language_info": {
   "codemirror_mode": {
    "name": "ipython",
    "version": 3
   },
   "file_extension": ".py",
   "mimetype": "text/x-python",
   "name": "python",
   "nbconvert_exporter": "python",
   "pygments_lexer": "ipython3",
   "version": "3.9.19"
  }
 },
 "nbformat": 4,
 "nbformat_minor": 5
}
