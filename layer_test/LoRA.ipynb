{
 "cells": [
  {
   "cell_type": "code",
   "execution_count": 1,
   "id": "c24ea70a-2827-42ec-a640-1330c214407b",
   "metadata": {},
   "outputs": [],
   "source": [
    "import pickle\n",
    "with open(\"list_of_grads\", \"rb\") as fp:   #Pickling\n",
    "    list_of_grads = pickle.load(fp)"
   ]
  },
  {
   "cell_type": "code",
   "execution_count": 2,
   "id": "da71dcfd-09d9-40c0-9a0d-a45f836aaf7c",
   "metadata": {},
   "outputs": [
    {
     "data": {
      "text/plain": [
       "torch.Size([192, 768])"
      ]
     },
     "execution_count": 2,
     "metadata": {},
     "output_type": "execute_result"
    }
   ],
   "source": [
    "list_of_grads[3].shape"
   ]
  },
  {
   "cell_type": "code",
   "execution_count": 5,
   "id": "4e460e63-61b1-48d5-a96d-025670b3544c",
   "metadata": {},
   "outputs": [],
   "source": [
    "import numpy as np\n",
    "Ps = []\n",
    "Qs = []\n",
    "\n",
    "for elem in list_of_grads[:3]:\n",
    "    U, S, Vt = np.linalg.svd(elem.cpu().numpy(), full_matrices=False)\n",
    "    # truncate SVD and fuse Sigma matrix\n",
    "    p = np.dot(np.diag(np.sqrt(S[0:50])),Vt[0:50, :])\n",
    "    q = np.dot(U[:,0:50,], np.diag(np.sqrt(S[0:50])))\n",
    "    Ps.append(p)\n",
    "    Qs.append(q)"
   ]
  },
  {
   "cell_type": "code",
   "execution_count": null,
   "id": "cda17580-951c-4fb7-8c7e-82e73d6c721a",
   "metadata": {},
   "outputs": [],
   "source": []
  }
 ],
 "metadata": {
  "kernelspec": {
   "display_name": "Python [conda env:.mlspace-video_vika]",
   "language": "python",
   "name": "conda-env-.mlspace-video_vika-py"
  },
  "language_info": {
   "codemirror_mode": {
    "name": "ipython",
    "version": 3
   },
   "file_extension": ".py",
   "mimetype": "text/x-python",
   "name": "python",
   "nbconvert_exporter": "python",
   "pygments_lexer": "ipython3",
   "version": "3.10.15"
  }
 },
 "nbformat": 4,
 "nbformat_minor": 5
}
