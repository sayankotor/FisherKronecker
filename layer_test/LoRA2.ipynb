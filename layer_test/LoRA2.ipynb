{
 "cells": [
  {
   "cell_type": "code",
   "execution_count": 1,
   "id": "c24ea70a-2827-42ec-a640-1330c214407b",
   "metadata": {},
   "outputs": [],
   "source": [
    "import pickle\n",
    "with open(\"list_of_grads\", \"rb\") as fp:   #Pickling\n",
    "    list_of_grads = pickle.load(fp)"
   ]
  },
  {
   "cell_type": "code",
   "execution_count": 2,
   "id": "da71dcfd-09d9-40c0-9a0d-a45f836aaf7c",
   "metadata": {},
   "outputs": [
    {
     "data": {
      "text/plain": [
       "torch.Size([192, 768])"
      ]
     },
     "execution_count": 2,
     "metadata": {},
     "output_type": "execute_result"
    }
   ],
   "source": [
    "list_of_grads[3].shape"
   ]
  },
  {
   "cell_type": "markdown",
   "id": "73d30b8d-81b0-4249-bc16-63672dd2f121",
   "metadata": {},
   "source": [
    "## Prepare"
   ]
  },
  {
   "cell_type": "code",
   "execution_count": 5,
   "id": "4e460e63-61b1-48d5-a96d-025670b3544c",
   "metadata": {},
   "outputs": [],
   "source": [
    "import numpy as np\n",
    "Ps = []\n",
    "Qs = []\n",
    "\n",
    "for elem in list_of_grads[:3]:\n",
    "    U, S, Vt = np.linalg.svd(elem.cpu().numpy(), full_matrices=False)\n",
    "    # truncate SVD and fuse Sigma matrix\n",
    "    p = np.dot(np.diag(np.sqrt(S[0:50])),Vt[0:50, :])\n",
    "    q = np.dot(U[:,0:50,], np.diag(np.sqrt(S[0:50])))\n",
    "    Ps.append(p)\n",
    "    Qs.append(q)"
   ]
  },
  {
   "cell_type": "code",
   "execution_count": 77,
   "id": "cda17580-951c-4fb7-8c7e-82e73d6c721a",
   "metadata": {},
   "outputs": [
    {
     "name": "stderr",
     "output_type": "stream",
     "text": [
      "/tmp/ipykernel_724817/2531670614.py:2: FutureWarning: You are using `torch.load` with `weights_only=False` (the current default value), which uses the default pickle module implicitly. It is possible to construct malicious pickle data which will execute arbitrary code during unpickling (See https://github.com/pytorch/pytorch/blob/main/SECURITY.md#untrusted-models for more details). In a future release, the default value for `weights_only` will be flipped to `True`. This limits the functions that could be executed during unpickling. Arbitrary objects will no longer be allowed to be loaded via this mode unless they are explicitly allowlisted by the user via `torch.serialization.add_safe_globals`. We recommend you start setting `weights_only=True` for any use case where you don't have full control of the loaded file. Please open an issue on GitHub for any issues related to this experimental feature.\n",
      "  dense3_grad = torch.load(\"dense3.pt\")\n"
     ]
    }
   ],
   "source": [
    "import torch\n",
    "dense3_grad = torch.load(\"dense3.pt\")\n",
    "\n",
    "U, S, Vt = np.linalg.svd(dense3_grad.cpu().numpy(), full_matrices=False)\n",
    "Q = np.dot(np.diag(np.sqrt(S[0:50])),Vt[0:50, :])\n",
    "P = np.dot(U[:,0:50,], np.diag(np.sqrt(S[0:50])))"
   ]
  },
  {
   "cell_type": "markdown",
   "id": "f2f9ab53-71e0-4178-8376-96399b20c0f1",
   "metadata": {},
   "source": [
    "## 1. Define Kron factors"
   ]
  },
  {
   "cell_type": "code",
   "execution_count": 47,
   "id": "65d4961d-2498-40d8-bf36-9c3761f15bbc",
   "metadata": {},
   "outputs": [
    {
     "name": "stdout",
     "output_type": "stream",
     "text": [
      "m, n 192 50\n",
      "k, m, n 3 50 192\n"
     ]
    }
   ],
   "source": [
    "m, n = Qs[0].shape\n",
    "print (\"m, n\", m, n)\n",
    "list_of_grads1 = [grad.reshape(-1) for grad in Qs]\n",
    "\n",
    "grad_vectors = np.stack([grad.reshape(n,m, order = 'F') for grad in list_of_grads1])\n",
    "k, m, n = grad_vectors.shape\n",
    "print (\"k, m, n\", k, m, n)\n",
    "e_d = np.ones((m*m, 1))\n",
    "res = np.zeros(n*n) "
   ]
  },
  {
   "cell_type": "code",
   "execution_count": 64,
   "id": "c2b49034-eb56-43d7-aae6-6d5350ec076b",
   "metadata": {},
   "outputs": [],
   "source": [
    "def get_factor_left(list_of_lora_factors):\n",
    "    m, n = list_of_lora_factors[0].shape #cols rows in torch -> rows cols in numpy\n",
    "    print (\"m, n\", m, n)\n",
    "    list_of_grads1 = [grad.reshape(-1) for grad in list_of_lora_factors]\n",
    "\n",
    "    grad_vectors = np.stack([grad.reshape(n,m, order = 'F') for grad in list_of_grads1])\n",
    "    k, m, n = grad_vectors.shape\n",
    "    print (\"k, m, n\", k, m, n)\n",
    "    e_d = np.ones((m, 1))\n",
    "    res = np.zeros(n*n) \n",
    "    V = (e_d@e_d.T)\n",
    "    d_size = V.shape[0]*V.shape[1]\n",
    "    for i in range(k):\n",
    "        res += (grad_vectors[i].T @ V @ grad_vectors[i]).T.ravel()/d_size\n",
    "    return res/k\n",
    "\n",
    "def get_factor_right(list_of_lora_factors):\n",
    "    m, n = list_of_lora_factors[0].shape #cols rows in torch -> rows cols in numpy\n",
    "    print (\"m, n\", m, n)\n",
    "    list_of_grads1 = [grad.reshape(-1) for grad in list_of_lora_factors]\n",
    "\n",
    "    grad_vectors = np.stack([grad.reshape(n,m, order = 'F') for grad in list_of_grads1])\n",
    "    k, m, n = grad_vectors.shape\n",
    "    print (\"k, m, n\", k, m, n)\n",
    "    k, m, n = grad_vectors.shape\n",
    "    e_d = np.ones((n, 1))\n",
    "    res = np.zeros(m*m) \n",
    "    V = (e_d@e_d.T)\n",
    "    d_size = V.shape[0]*V.shape[1]\n",
    "    for i in range(k):\n",
    "        res += (grad_vectors[i] @ V @ grad_vectors[i].T).T.ravel()/d_size\n",
    "    return res/k"
   ]
  },
  {
   "cell_type": "code",
   "execution_count": 70,
   "id": "cb244ee2-1a1a-494e-b769-71a64debd8bb",
   "metadata": {},
   "outputs": [
    {
     "name": "stdout",
     "output_type": "stream",
     "text": [
      "m, n 192 50\n",
      "m, n 192 50\n",
      "k, m, n 3 50 192\n"
     ]
    }
   ],
   "source": [
    "m, n = Qs[0].shape\n",
    "print (\"m, n\", m, n)\n",
    "LT = get_factor_left(Qs).reshape(m, m, order='F')"
   ]
  },
  {
   "cell_type": "code",
   "execution_count": 71,
   "id": "8714956a-031c-4ace-9301-2d8125e169a9",
   "metadata": {},
   "outputs": [
    {
     "name": "stdout",
     "output_type": "stream",
     "text": [
      "m, n 50 768\n",
      "m, n 50 768\n",
      "k, m, n 3 768 50\n"
     ]
    }
   ],
   "source": [
    "m, n = Ps[0].shape\n",
    "print (\"m, n\", m, n)\n",
    "R = get_factor_right(Ps).reshape(n, n, order='F')"
   ]
  },
  {
   "cell_type": "markdown",
   "id": "f1a5d1a6-6c1e-4a97-b398-abcaba11c3ea",
   "metadata": {},
   "source": [
    "## 2. Find \n",
    "\n",
    "$L^T P Q^T R \\approx U \\Sigma V^T $"
   ]
  },
  {
   "cell_type": "code",
   "execution_count": 78,
   "id": "4fe67f33-29f3-446a-8fa7-d5ee7ee89b88",
   "metadata": {},
   "outputs": [
    {
     "data": {
      "text/plain": [
       "(192, 192)"
      ]
     },
     "execution_count": 78,
     "metadata": {},
     "output_type": "execute_result"
    }
   ],
   "source": [
    "LT.shape"
   ]
  },
  {
   "cell_type": "code",
   "execution_count": 83,
   "id": "08c44763-24ff-4f10-90e0-05d80f4a973d",
   "metadata": {},
   "outputs": [
    {
     "data": {
      "text/plain": [
       "(50, 768)"
      ]
     },
     "execution_count": 83,
     "metadata": {},
     "output_type": "execute_result"
    }
   ],
   "source": [
    "Q.shape"
   ]
  },
  {
   "cell_type": "code",
   "execution_count": 82,
   "id": "3bc759a8-7c14-4b4d-99d3-c4450ce9ee2e",
   "metadata": {},
   "outputs": [
    {
     "data": {
      "text/plain": [
       "(192, 50)"
      ]
     },
     "execution_count": 82,
     "metadata": {},
     "output_type": "execute_result"
    }
   ],
   "source": [
    "(LT@P).shape"
   ]
  },
  {
   "cell_type": "code",
   "execution_count": 84,
   "id": "090ddc61-8aeb-4294-a1d6-46ec813eee23",
   "metadata": {},
   "outputs": [],
   "source": [
    "U, S, Vt = np.linalg.svd(LT@P@Q@R)"
   ]
  },
  {
   "cell_type": "markdown",
   "id": "752a61e2-4fbb-4cdf-a176-b7ccf406fbba",
   "metadata": {},
   "source": [
    "# 3. Define\n",
    "\n",
    "$\\hat{Vt} = Vt R^{-1}$\n",
    "\n",
    "$\\hat{U} = L^{-T} U$"
   ]
  },
  {
   "cell_type": "code",
   "execution_count": 85,
   "id": "2b22af28-8163-4711-8e2b-bd6c502c3abb",
   "metadata": {},
   "outputs": [],
   "source": [
    "Vt_new = Vt @ np.linalg.inv(R)\n",
    "U_new = np.linalg.inv(LT) @ U"
   ]
  },
  {
   "cell_type": "code",
   "execution_count": 87,
   "id": "9db65b6a-877a-4638-b1a1-eb3cec8a980f",
   "metadata": {},
   "outputs": [
    {
     "data": {
      "text/plain": [
       "(768, 768)"
      ]
     },
     "execution_count": 87,
     "metadata": {},
     "output_type": "execute_result"
    }
   ],
   "source": [
    "Vt_new.shape"
   ]
  },
  {
   "cell_type": "code",
   "execution_count": 97,
   "id": "ec291d06-84e2-4580-aa5d-8ce890cb9c15",
   "metadata": {},
   "outputs": [
    {
     "data": {
      "text/plain": [
       "(192, 192)"
      ]
     },
     "execution_count": 97,
     "metadata": {},
     "output_type": "execute_result"
    }
   ],
   "source": [
    "U_new[:,:len(S)].shape"
   ]
  },
  {
   "cell_type": "code",
   "execution_count": 93,
   "id": "6b75cb85-24e2-445c-bce4-7533f23f2b01",
   "metadata": {},
   "outputs": [
    {
     "data": {
      "text/plain": [
       "(192, 192)"
      ]
     },
     "execution_count": 93,
     "metadata": {},
     "output_type": "execute_result"
    }
   ],
   "source": [
    "np.diag(S).shape"
   ]
  },
  {
   "cell_type": "code",
   "execution_count": 90,
   "id": "11366d02-377b-40e2-8d77-fa8c53feb3fb",
   "metadata": {},
   "outputs": [
    {
     "data": {
      "text/plain": [
       "(192, 192)"
      ]
     },
     "execution_count": 90,
     "metadata": {},
     "output_type": "execute_result"
    }
   ],
   "source": [
    "U.shape"
   ]
  },
  {
   "cell_type": "code",
   "execution_count": 92,
   "id": "76a21d54-90c6-446b-833c-be0fb06ae329",
   "metadata": {},
   "outputs": [
    {
     "data": {
      "text/plain": [
       "(768, 768)"
      ]
     },
     "execution_count": 92,
     "metadata": {},
     "output_type": "execute_result"
    }
   ],
   "source": [
    "Vt.shape"
   ]
  },
  {
   "cell_type": "code",
   "execution_count": 98,
   "id": "083b8905-8df6-4c5c-8c8a-807c28928007",
   "metadata": {},
   "outputs": [],
   "source": [
    "dW = U_new@np.diag(S)@Vt_new[:len(S)] # new delta W instead of delta W = P@Q"
   ]
  },
  {
   "cell_type": "code",
   "execution_count": null,
   "id": "10622bc8-8531-44d5-9b88-6f99d6f0b843",
   "metadata": {},
   "outputs": [],
   "source": []
  }
 ],
 "metadata": {
  "kernelspec": {
   "display_name": "Python [conda env:.mlspace-video_vika]",
   "language": "python",
   "name": "conda-env-.mlspace-video_vika-py"
  },
  "language_info": {
   "codemirror_mode": {
    "name": "ipython",
    "version": 3
   },
   "file_extension": ".py",
   "mimetype": "text/x-python",
   "name": "python",
   "nbconvert_exporter": "python",
   "pygments_lexer": "ipython3",
   "version": "3.10.15"
  }
 },
 "nbformat": 4,
 "nbformat_minor": 5
}
